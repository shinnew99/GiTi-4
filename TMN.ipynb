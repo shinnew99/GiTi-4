{
 "cells": [
  {
   "cell_type": "code",
   "execution_count": null,
   "id": "cd4ecb1e",
   "metadata": {},
   "outputs": [],
   "source": [
    "import sys\n",
    "import os\n",
    "import json\n",
    "import logging\n",
    "import torch\n",
    "\n",
    "\n",
    "from torch import nn\n",
    "from transformers import (\n",
    "    Wav2Vec2ForSequenceClassification,\n",
    "    BertForSequenceClassification,\n",
    "    RobertaForSequenceClassification\n",
    ")\n",
    "import numpy as np\n",
    "\n",
    "from peft import get_peft_model, LoraConfig, TaskType\n",
    "\n",
    "from erc.constants import Task\n",
    "import erc\n",
    "from .cross_attention_utils import TransformerEncoder"
   ]
  },
  {
   "cell_type": "code",
   "execution_count": null,
   "id": "45b27e43",
   "metadata": {},
   "outputs": [],
   "source": [
    "logger = erc.utils.get_logger(__name__)\n",
    "\n",
    "class CrossAttentionRoberta(nn.Module):\n",
    "    TASK = Task.ALL\n",
    "    def __init__(\n",
    "    )"
   ]
  }
 ],
 "metadata": {
  "kernelspec": {
   "display_name": "Python 3 (ipykernel)",
   "language": "python",
   "name": "python3"
  },
  "language_info": {
   "codemirror_mode": {
    "name": "ipython",
    "version": 3
   },
   "file_extension": ".py",
   "mimetype": "text/x-python",
   "name": "python",
   "nbconvert_exporter": "python",
   "pygments_lexer": "ipython3",
   "version": "3.9.7"
  }
 },
 "nbformat": 4,
 "nbformat_minor": 5
}
