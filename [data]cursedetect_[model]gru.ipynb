{
 "cells": [
  {
   "cell_type": "code",
   "execution_count": 1,
   "id": "73df9e10",
   "metadata": {},
   "outputs": [
    {
     "name": "stdout",
     "output_type": "stream",
     "text": [
      "fatal: destination path 'Curse-detection' already exists and is not an empty directory.\r\n"
     ]
    }
   ],
   "source": [
    "!git clone https://github.com/2runo/Curse-detection"
   ]
  },
  {
   "cell_type": "code",
   "execution_count": 2,
   "id": "54b2128b",
   "metadata": {},
   "outputs": [],
   "source": [
    "# !jupytext --to notebook /aiffel/aiffel/workplace/GiTi-4/GiTi-4/Curse-detection/src/model.py\n",
    "# !jupytext --to notebook /aiffel/aiffel/workplace/GiTi-4/GiTi-4/Curse-detection/src/curse_detector.py\n",
    "# !jupytext --to notebook /aiffel/aiffel/workplace/GiTi-4/GiTi-4/Curse-detection/src/embedding.py\n",
    "# !jupytext --to notebook /aiffel/aiffel/workplace/GiTi-4/GiTi-4/Curse-detection/src/text_preprocessing.py"
   ]
  },
  {
   "cell_type": "markdown",
   "id": "d28ab33b",
   "metadata": {},
   "source": [
    "### Package Download"
   ]
  },
  {
   "cell_type": "code",
   "execution_count": 3,
   "id": "31cafbfa",
   "metadata": {
    "scrolled": false
   },
   "outputs": [
    {
     "name": "stdout",
     "output_type": "stream",
     "text": [
      "Requirement already satisfied: youtube-transcript-api in /opt/conda/lib/python3.9/site-packages (0.6.1)\n",
      "Requirement already satisfied: requests in /opt/conda/lib/python3.9/site-packages (from youtube-transcript-api) (2.26.0)\n",
      "Requirement already satisfied: certifi>=2017.4.17 in /opt/conda/lib/python3.9/site-packages (from requests->youtube-transcript-api) (2023.5.7)\n",
      "Requirement already satisfied: charset-normalizer~=2.0.0 in /opt/conda/lib/python3.9/site-packages (from requests->youtube-transcript-api) (2.0.8)\n",
      "Requirement already satisfied: urllib3<1.27,>=1.21.1 in /opt/conda/lib/python3.9/site-packages (from requests->youtube-transcript-api) (1.26.7)\n",
      "Requirement already satisfied: idna<4,>=2.5 in /opt/conda/lib/python3.9/site-packages (from requests->youtube-transcript-api) (2.10)\n",
      "\u001b[33mWARNING: Running pip as the 'root' user can result in broken permissions and conflicting behaviour with the system package manager. It is recommended to use a virtual environment instead: https://pip.pypa.io/warnings/venv\u001b[0m\n"
     ]
    }
   ],
   "source": [
    "# !pip install jupytext\n",
    "# !pip install text_preprocessing\n",
    "!pip install youtube-transcript-api"
   ]
  },
  {
   "cell_type": "code",
   "execution_count": 4,
   "id": "d3c1806b",
   "metadata": {},
   "outputs": [
    {
     "name": "stdout",
     "output_type": "stream",
     "text": [
      "/aiffel/aiffel/workplace/GiTi-4/GiTi-4/Curse-detection/src\r\n"
     ]
    }
   ],
   "source": [
    "!pwd"
   ]
  },
  {
   "cell_type": "code",
   "execution_count": 5,
   "id": "c7f56897",
   "metadata": {},
   "outputs": [],
   "source": [
    "from youtube_transcript_api import YouTubeTranscriptApi\n",
    "from sklearn.model_selection import train_test_split\n",
    "from tensorflow.keras.preprocessing.text import Tokenizer\n",
    "from tensorflow.keras.preprocessing.sequence import pad_sequences\n",
    "from tensorflow.keras.models import Sequential\n",
    "\n",
    "\n",
    "from keras.models import Model\n",
    "from keras.layers import Input, Dense, Flatten, Dropout, BatchNormalization, Embedding\n",
    "from keras.layers import LeakyReLU, TimeDistributed, GRU, Bidirectional, MaxPooling1D, AveragePooling1D, concatenate\n",
    "# from keras.layers.convolutional import MaxPooling1D, AveragePooling1D\n",
    "# from keras.layers.merge import concatenate\n",
    "from keras.constraints import max_norm\n",
    "from tensorflow.keras.optimizers import Adam\n",
    "import keras.backend as K\n",
    "import pandas as pd\n",
    "import numpy as np\n",
    "import joblib"
   ]
  },
  {
   "cell_type": "code",
   "execution_count": 6,
   "id": "f3cc9cc4",
   "metadata": {},
   "outputs": [],
   "source": [
    "# model.py\n",
    "\n",
    "INPUTSHAPE = (256, 4,)\n",
    "\n",
    "def custom_acc(y_true, y_pred):\n",
    "    # accuracy 함수\n",
    "    return K.mean(K.round(y_true) == K.round(y_pred))\n",
    "\n",
    "def np_custom_acc(y_true, y_pred):\n",
    "    # accuracy 함수 (numpy 버전)\n",
    "    return np.mean(np.round(y_true) == np.round(y_pred))\n",
    "\n",
    "def time_distributed_layer(pool):\n",
    "    # time distributed dense\n",
    "    pool = Dropout(0.3)(pool)\n",
    "    pool = TimeDistributed(Dense(512, kernel_constraint=max_norm(5.)))(pool)\n",
    "    return pool\n",
    "\n",
    "def layer(units, inter):\n",
    "    # fully connected layer (BN, leaky-relu 사용)\n",
    "    inter = Dense(units, kernel_constraint=max_norm(5.))(inter)\n",
    "    inter = BatchNormalization()(inter)\n",
    "    inter = LeakyReLU()(inter)\n",
    "    inter = Dropout(0.2)(inter)\n",
    "    return inter\n",
    "\n",
    "\n",
    "def build_model():\n",
    "    # 모델을 반환한다. (v4.2.2)\n",
    "\n",
    "    inputs1 = Input(shape=INPUTSHAPE)\n",
    "    # GRU\n",
    "    inter = Bidirectional(GRU(512, return_sequences=True, reset_after=False), merge_mode='concat')(inputs1)\n",
    "    # pooling\n",
    "    avg_pool = AveragePooling1D(pool_size=3)(inter)\n",
    "    avg_pool = time_distributed_layer(avg_pool)\n",
    "    max_pool = MaxPooling1D(pool_size=3)(inter)\n",
    "    max_pool = time_distributed_layer(max_pool)\n",
    "    inter = concatenate([avg_pool, max_pool], axis=-1)\n",
    "    \n",
    "    # Flatten 레이어 추가\n",
    "    inter = Flatten()(inter)\n",
    "    # fully connected layers\n",
    "    inter = layer(1024, inter)\n",
    "    inter = layer(256, inter)\n",
    "    inter = layer(64, inter)\n",
    "    inter = Flatten()(inter)\n",
    "    inter = layer(1024, inter)\n",
    "    inter = Dense(64, kernel_constraint=max_norm(5.))(inter)\n",
    "    inter = LeakyReLU(alpha=0.01)(inter)\n",
    "    outputs = Dense(2, activation='softmax')(inter)\n",
    "\n",
    "    model = Model(inputs=inputs1, outputs=outputs)\n",
    "\n",
    "    optimizer = Adam(lr=0.001)\n",
    "    model.compile(loss=\"binary_crossentropy\", optimizer=optimizer, metrics=[custom_acc])\n",
    "\n",
    "    return model"
   ]
  },
  {
   "cell_type": "code",
   "execution_count": 7,
   "id": "40b029a3",
   "metadata": {},
   "outputs": [],
   "source": [
    "import numpy as np\n",
    "import joblib\n",
    "\n",
    "\n",
    "def char2vec(char):\n",
    "    # (사전 예측된 dict를 통한) 글자 임베딩 수행\n",
    "    if char == '~':\n",
    "        # 빈 데이터 -> [0., 0., .., 0.]\n",
    "        return np.array([0.] * len(vecdict['ㄱ']))\n",
    "    return vecdict[char]\n",
    "\n",
    "\n",
    "def embedding(x):\n",
    "    # 데이터에 대해 임베딩을 수행\n",
    "    return np.array([[char2vec(e) for e in ele] for ele in x])\n",
    "\n",
    "\n",
    "def padding(x, length=256, pad=None):\n",
    "    # 패딩을 수행\n",
    "    result = []\n",
    "    for n, ele in enumerate(x):\n",
    "        if len(ele) == length:\n",
    "            result.append(ele)\n",
    "            continue\n",
    "        if pad is None:\n",
    "            pad = [0.] * len(ele[0])\n",
    "\n",
    "        a, b = np.array(ele), np.array([pad] * (length - len(ele)))\n",
    "        try:\n",
    "            mid = np.concatenate((a, b))\n",
    "        except:\n",
    "            continue\n",
    "\n",
    "        result.append(mid)\n",
    "    return np.array(result)\n",
    "\n",
    "\n",
    "def padding_x(x, length=256, pad=None):\n",
    "    # 하나의 input 값에만 padding 수행\n",
    "    if len(x) > length:\n",
    "        return None\n",
    "    if len(x) == length:\n",
    "        return x\n",
    "    if pad == None:\n",
    "        pad = [0.] * len(x[0])\n",
    "    a, b = np.array(x), np.array([pad] * (length - len(x)))\n",
    "    try:\n",
    "        mid = np.concatenate((a, b))\n",
    "    except:\n",
    "        None\n",
    "    return mid\n",
    "\n",
    "\n",
    "vecdict = joblib.load('models/char2vec.dic')  # 각 글자에 대응하는 vector가 담긴 dictionary"
   ]
  },
  {
   "cell_type": "code",
   "execution_count": 8,
   "id": "1eb12b4e",
   "metadata": {},
   "outputs": [],
   "source": [
    "# text-preprocessing.py\n",
    "\n",
    "'''댓글 데이터를 전처리한다. Embedding이 아니라 긴 댓글은 제거하거나 특수문자를 제거한다.'''\n",
    "\n",
    "import re\n",
    "import itertools\n",
    "\n",
    "BASE_CODE, CHOSUNG, JUNGSUNG = 44032, 588, 28\n",
    "CHOSUNG_LIST = ['ㄱ', 'ㄲ', 'ㄴ', 'ㄷ', 'ㄸ', 'ㄹ', 'ㅁ', 'ㅂ', 'ㅃ', 'ㅅ', 'ㅆ', 'ㅇ', 'ㅈ', 'ㅉ', 'ㅊ', 'ㅋ', 'ㅌ', 'ㅍ', 'ㅎ']\n",
    "JUNGSUNG_LIST = ['ㅏ', 'ㅐ', 'ㅑ', 'ㅒ', 'ㅓ', 'ㅔ', 'ㅕ', 'ㅖ', 'ㅗ', 'ㅘ', 'ㅙ', 'ㅚ', 'ㅛ', 'ㅜ', 'ㅝ', 'ㅞ', 'ㅟ', 'ㅠ', 'ㅡ', 'ㅢ',\n",
    "                 'ㅣ']\n",
    "JONGSUNG_LIST = ['~', 'ㄱ', 'ㄲ', 'ㄳ', 'ㄴ', 'ㄵ', 'ㄶ', 'ㄷ', 'ㄹ', 'ㄺ', 'ㄻ', 'ㄼ', 'ㄽ', 'ㄾ', 'ㄿ', 'ㅀ', 'ㅁ', 'ㅂ', 'ㅄ', 'ㅅ',\n",
    "                 'ㅆ', 'ㅇ', 'ㅈ', 'ㅊ', 'ㅋ', 'ㅌ', 'ㅍ', 'ㅎ']\n",
    "GYUP2CHO = {'ㄳ': 'ㄱㅅ', 'ㄵ': 'ㄴㅈ', 'ㄶ': 'ㄴㅎ', 'ㄺ': 'ㄹㄱ', 'ㄻ': 'ㄹㅁ', 'ㄽ': 'ㄹㅅ', 'ㄾ': 'ㄹㅌ', 'ㄿ': 'ㄹㅍ',\n",
    "            'ㅄ': 'ㅂㅅ'}  # 겹자음을 자음으로 변환\n",
    "\n",
    "\n",
    "\n",
    "def remain_char(x):\n",
    "    # 오직 한글 글자만 남기기 (띄어쓰기, 숫자, 특수문자, 영어 등은 삭제)\n",
    "    return [''.join(re.findall(r'[ㄱ-ㅎㅏ-ㅣ각-힣]', i)) for i in x]  # 숫자도 삭제 (숫자 보존하려면 표현식 뒤에 '0-9' 추가)\n",
    "\n",
    "\n",
    "def long2short(x):\n",
    "    # 연속적으로 긴 단어는 간추리기\n",
    "    # ef) f('ㅋㅋㅋㅋㅋㅋㅋ앜ㅋㅋㅋ') -> f('ㅋ앜ㅋ')\n",
    "    result = []\n",
    "    keep = True\n",
    "    for ele in x:\n",
    "        while True:\n",
    "            candidates = set(re.findall(r'(\\w)\\1', ele))\n",
    "            repeats = itertools.chain(*[re.findall(r\"({0}{0}+)\".format(c), ele) for c in candidates])\n",
    "\n",
    "            keep = False\n",
    "            for org in [i for i in repeats if len(i) >= 2]:\n",
    "                ele = ele.replace(org, org[0])\n",
    "                keep = True\n",
    "            if not keep:\n",
    "                break\n",
    "        result.append(ele)\n",
    "    return result\n",
    "\n",
    "\n",
    "def analchar(test_keyword):\n",
    "    # 글자 -> 초성, 중성, 종성 분리 (한글 아니면 그대로 반환)\n",
    "    # ex) f('아녕ㅕㄴ') -> 'ㅇㅏ~ㄴㅕㅇㅕ~~ㄴ~~'\n",
    "    split_keyword_list = list(test_keyword)\n",
    "\n",
    "    result = []\n",
    "    for keyword in split_keyword_list:\n",
    "        # 한글 여부 확인 후 초성, 중성, 종성 분리\n",
    "        if re.match(r'.*[가-힣]+.*', keyword) is not None:\n",
    "            char_code = ord(keyword) - BASE_CODE\n",
    "            char1 = int(char_code / CHOSUNG)\n",
    "            result.append(CHOSUNG_LIST[char1])\n",
    "            char2 = int((char_code - (CHOSUNG * char1)) / JUNGSUNG)\n",
    "            result.append(JUNGSUNG_LIST[char2])\n",
    "            char3 = int((char_code - (CHOSUNG * char1) - (JUNGSUNG * char2)))  # 종성 없으면 char3 = 0 = '~'\n",
    "            result.append(JONGSUNG_LIST[char3])\n",
    "        elif re.match(r'[ㄱ-ㅎ]', keyword) is not None:\n",
    "            result.append(keyword + '~~')\n",
    "        elif re.match(r'[ㅏ-ㅣ]', keyword) is not None:\n",
    "            result.append('~' + keyword + '~')\n",
    "        else:\n",
    "            result.append(keyword)\n",
    "\n",
    "    return ''.join(result)\n",
    "\n",
    "\n",
    "def data2anal(x):\n",
    "    # 글자 -> 초성, 중성, 종성 분리 (한글 아니면 그대로 반환)\n",
    "    return [analchar(i) for i in x]\n",
    "\n",
    "\n",
    "def replace_gyup(x):\n",
    "    # 겹자음을 자음으로 변환한다.\n",
    "    # ex) 'ㅄ새끼' -> 'ㅂㅅ새끼'\n",
    "    result = []\n",
    "    for ele in x:\n",
    "        for gyup, cho in GYUP2CHO.items():\n",
    "            ele = ele.replace(gyup, cho)\n",
    "        result.append(ele)\n",
    "    return result\n",
    "\n",
    "\n",
    "def preprocess(texts):\n",
    "    texts = remain_char(texts)  # 특수문자, 영어 등 제거\n",
    "    texts = long2short(texts)   # 연속적인 글자 단축 (ㅋㅋㅋㅋ->ㅋ)\n",
    "    texts = data2anal(texts)    # 초성, 중성, 종성 분리\n",
    "    return texts"
   ]
  },
  {
   "cell_type": "code",
   "execution_count": 10,
   "id": "8abbffe1",
   "metadata": {},
   "outputs": [],
   "source": [
    "# curse_detector.py\n",
    "\n",
    "class CurseDetector():\n",
    "    max_sequence_length = None  # 클래스 멤버 변수로 max_sequence_length 정의\n",
    "\n",
    "    def __init__(self, path=None):\n",
    "        # 토크나이저 초기화\n",
    "        self.tokenizer = Tokenizer()\n",
    "        self.model = self.build_model()\n",
    "        if path:\n",
    "            self.load_weights(path)\n",
    "\n",
    "    def build_model(self):\n",
    "        model = Sequential()\n",
    "        model.add(Embedding(input_dim=len(self.tokenizer.word_index) + 1, output_dim=100, input_length=self.max_sequence_length))\n",
    "        model.add(Bidirectional(GRU(128)))\n",
    "        model.add(Dense(1, activation='sigmoid'))\n",
    "        model.compile(loss='binary_crossentropy', optimizer='adam', metrics=['accuracy'])\n",
    "        print(len(self.tokenizer.word_index))\n",
    "        return model\n",
    "\n",
    "    def load_weights(self, path):\n",
    "        try:\n",
    "            self.model.load_weights(path)\n",
    "        except OSError:\n",
    "            raise Exception(\"학습된 모델을 불러오는 데 실패했습니다. 학습된 모델(weights.h5)을 models 폴더에 옮겨 주세요.\")\n",
    "\n",
    "    def train_model(self, sentences, labels):\n",
    "        # 토크나이저 피팅\n",
    "        self.tokenizer.fit_on_texts(sentences)\n",
    "\n",
    "        # 텍스트를 시퀀스로 변환\n",
    "        sequences = self.tokenizer.texts_to_sequences(sentences)\n",
    "        \n",
    "        # 시퀀스의 길이를 맞추기 위한 패딩\n",
    "        padded_sequences = pad_sequences(sequences, maxlen=self.max_sequence_length)  \n",
    "        # maxlen을 추가하여 시퀀스 길이를 맞춰줍니다.\n",
    "\n",
    "        # 최대 시퀀스 길이 저장\n",
    "        self.max_sequence_length = padded_sequences.shape[1]\n",
    "\n",
    "        # 학습 데이터와 레이블을 훈련 및 검증 세트로 분할\n",
    "        X_train, X_val, y_train, y_val = train_test_split(padded_sequences, labels, test_size=0.2, random_state=42)\n",
    "\n",
    "        # 모델 학습\n",
    "        # y_train, y_val을 np.array로 변환\n",
    "        self.model.fit(X_train, np.array(y_train), epochs=10, validation_data=(X_val, np.array(y_val)), verbose=1)  \n",
    "        \n",
    "        # 학습된 모델 저장\n",
    "        self.model.save_weights('curse_detection_weights.h5')\n",
    "                            \n",
    "#     def embedding(self, texts):\n",
    "#         # 전처리, 임베딩 수행\n",
    "#         texts = preprocess(texts)\n",
    "#         embed = embedding(texts)\n",
    "#         embed = padding(embed)\n",
    "#         return embed\n",
    "            \n",
    "#     def predict(self, texts):\n",
    "#         # 욕설 분류 수행\n",
    "#         one = False\n",
    "#         if isinstance(texts, str):\n",
    "#             texts = [texts]\n",
    "#             one = True\n",
    "\n",
    "#         # 예측\n",
    "#         embed = self.embedding(texts)\n",
    "#         pred = self.model.predict(embed)\n",
    "\n",
    "#         if one:\n",
    "#             pred = pred[0]\n",
    "#         return pred\n",
    "\n",
    "    def predict(self, sentences):\n",
    "        # 텍스트를 시퀀스로 변환\n",
    "        sequences = self.tokenizer.texts_to_sequences([sentences])\n",
    "\n",
    "        # 시퀀스의 길이를 맞추기 위한 패딩\n",
    "        padded_sequences = pad_sequences(sequences, maxlen=self.max_sequence_length)\n",
    "        \n",
    "        score = self.model.predict(padded_sequences)\n",
    "        \n",
    "        return score"
   ]
  },
  {
   "cell_type": "code",
   "execution_count": null,
   "id": "bf97039b",
   "metadata": {},
   "outputs": [],
   "source": []
  },
  {
   "cell_type": "code",
   "execution_count": 11,
   "id": "16a8d296",
   "metadata": {},
   "outputs": [
    {
     "name": "stdout",
     "output_type": "stream",
     "text": [
      "/aiffel/aiffel/workplace/GiTi-4/GiTi-4/Curse-detection/src\r\n"
     ]
    }
   ],
   "source": [
    "!pwd"
   ]
  },
  {
   "cell_type": "code",
   "execution_count": 12,
   "id": "4ff02eda",
   "metadata": {},
   "outputs": [
    {
     "data": {
      "text/html": [
       "<div>\n",
       "<style scoped>\n",
       "    .dataframe tbody tr th:only-of-type {\n",
       "        vertical-align: middle;\n",
       "    }\n",
       "\n",
       "    .dataframe tbody tr th {\n",
       "        vertical-align: top;\n",
       "    }\n",
       "\n",
       "    .dataframe thead th {\n",
       "        text-align: right;\n",
       "    }\n",
       "</style>\n",
       "<table border=\"1\" class=\"dataframe\">\n",
       "  <thead>\n",
       "    <tr style=\"text-align: right;\">\n",
       "      <th></th>\n",
       "      <th>Text</th>\n",
       "      <th>Label</th>\n",
       "    </tr>\n",
       "  </thead>\n",
       "  <tbody>\n",
       "    <tr>\n",
       "      <th>5821</th>\n",
       "      <td>좌우 헬파이어 3개씩 6개 장착에 아파치보다 약하지만 20mm 기관포 장착임</td>\n",
       "      <td>0</td>\n",
       "    </tr>\n",
       "    <tr>\n",
       "      <th>5822</th>\n",
       "      <td>세금 내놓으라고 데모질 중 ㅋㅋ간첩, 도둑놈 새끼들이 대통령 해처먹으니까  나도 같...</td>\n",
       "      <td>1</td>\n",
       "    </tr>\n",
       "    <tr>\n",
       "      <th>5823</th>\n",
       "      <td>너가 한 말 중에</td>\n",
       "      <td>0</td>\n",
       "    </tr>\n",
       "    <tr>\n",
       "      <th>5824</th>\n",
       "      <td>제갈대중 ㅇㅂ</td>\n",
       "      <td>0</td>\n",
       "    </tr>\n",
       "    <tr>\n",
       "      <th>5825</th>\n",
       "      <td>우리나라교회는 악마들이모여 주뎅이 처벌리고</td>\n",
       "      <td>1</td>\n",
       "    </tr>\n",
       "  </tbody>\n",
       "</table>\n",
       "</div>"
      ],
      "text/plain": [
       "                                                   Text  Label\n",
       "5821         좌우 헬파이어 3개씩 6개 장착에 아파치보다 약하지만 20mm 기관포 장착임      0\n",
       "5822  세금 내놓으라고 데모질 중 ㅋㅋ간첩, 도둑놈 새끼들이 대통령 해처먹으니까  나도 같...      1\n",
       "5823                                          너가 한 말 중에      0\n",
       "5824                                            제갈대중 ㅇㅂ      0\n",
       "5825                           우리나라교회는 악마들이모여 주뎅이 처벌리고       1"
      ]
     },
     "execution_count": 12,
     "metadata": {},
     "output_type": "execute_result"
    }
   ],
   "source": [
    "# 텍스트 파일을 DataFrame으로 불러오기\n",
    "file_path = 'dataset.txt'  # 파일 경로를 적절히 수정하세요\n",
    "\n",
    "# 파일 불러오기\n",
    "df1 = pd.read_csv(file_path, sep='|', header=None, names=['Text', 'Label'], encoding='utf-8')\n",
    "\n",
    "# DataFrame 출력\n",
    "# print(df1.tail())\n",
    "\n",
    "df1.tail()"
   ]
  },
  {
   "cell_type": "code",
   "execution_count": 13,
   "id": "c329fd37",
   "metadata": {},
   "outputs": [
    {
     "name": "stdout",
     "output_type": "stream",
     "text": [
      "                                                   Text  Label\n",
      "5821         좌우 헬파이어 3개씩 6개 장착에 아파치보다 약하지만 20mm 기관포 장착임      0\n",
      "5822  세금 내놓으라고 데모질 중 ㅋㅋ간첩, 도둑놈 새끼들이 대통령 해처먹으니까  나도 같...      1\n",
      "5823                                          너가 한 말 중에      0\n",
      "5824                                            제갈대중 ㅇㅂ      0\n",
      "5825                           우리나라교회는 악마들이모여 주뎅이 처벌리고       1\n"
     ]
    }
   ],
   "source": [
    "df1 = pd.DataFrame({'Text':df1.Text, 'Label':df1.Label})\n",
    "print(df1.tail())"
   ]
  },
  {
   "cell_type": "code",
   "execution_count": 14,
   "id": "069b69dc",
   "metadata": {},
   "outputs": [
    {
     "data": {
      "text/plain": [
       "0       1\n",
       "1       0\n",
       "2       1\n",
       "3       0\n",
       "4       1\n",
       "       ..\n",
       "5821    0\n",
       "5822    1\n",
       "5823    0\n",
       "5824    0\n",
       "5825    1\n",
       "Name: Label, Length: 5826, dtype: int64"
      ]
     },
     "execution_count": 14,
     "metadata": {},
     "output_type": "execute_result"
    }
   ],
   "source": [
    "df1.Label"
   ]
  },
  {
   "cell_type": "code",
   "execution_count": 15,
   "id": "667236bd",
   "metadata": {},
   "outputs": [
    {
     "name": "stdout",
     "output_type": "stream",
     "text": [
      "[1 0]\n"
     ]
    }
   ],
   "source": [
    "unique_values = df1['Label'].unique()\n",
    "print(unique_values)\n",
    "\n",
    "# 인덱스 값을 확인해서 그냥 그 줄을 삭제"
   ]
  },
  {
   "cell_type": "code",
   "execution_count": 16,
   "id": "298ac4cf",
   "metadata": {
    "scrolled": false
   },
   "outputs": [
    {
     "data": {
      "text/plain": [
       "0       1.0\n",
       "1       0.0\n",
       "2       1.0\n",
       "3       0.0\n",
       "4       1.0\n",
       "       ... \n",
       "5821    0.0\n",
       "5822    1.0\n",
       "5823    0.0\n",
       "5824    0.0\n",
       "5825    1.0\n",
       "Name: Label, Length: 5826, dtype: float64"
      ]
     },
     "execution_count": 16,
     "metadata": {},
     "output_type": "execute_result"
    }
   ],
   "source": [
    "df1['Label'].astype(float)"
   ]
  },
  {
   "cell_type": "code",
   "execution_count": null,
   "id": "634c5c3d",
   "metadata": {},
   "outputs": [],
   "source": []
  },
  {
   "cell_type": "code",
   "execution_count": null,
   "id": "f9048483",
   "metadata": {},
   "outputs": [],
   "source": []
  },
  {
   "cell_type": "code",
   "execution_count": null,
   "id": "8bccb0fe",
   "metadata": {},
   "outputs": [],
   "source": []
  },
  {
   "cell_type": "code",
   "execution_count": null,
   "id": "786462d7",
   "metadata": {},
   "outputs": [],
   "source": []
  },
  {
   "cell_type": "code",
   "execution_count": null,
   "id": "737b6c61",
   "metadata": {},
   "outputs": [],
   "source": []
  },
  {
   "cell_type": "code",
   "execution_count": 17,
   "id": "47080ff7",
   "metadata": {
    "scrolled": true
   },
   "outputs": [
    {
     "name": "stdout",
     "output_type": "stream",
     "text": [
      "0\n",
      "Epoch 1/10\n",
      "146/146 [==============================] - 8s 22ms/step - loss: 0.6336 - accuracy: 0.6498 - val_loss: 0.6226 - val_accuracy: 0.6664\n",
      "Epoch 2/10\n",
      "146/146 [==============================] - 3s 18ms/step - loss: 0.6286 - accuracy: 0.6573 - val_loss: 0.6260 - val_accuracy: 0.6638\n",
      "Epoch 3/10\n",
      "146/146 [==============================] - 3s 18ms/step - loss: 0.6274 - accuracy: 0.6590 - val_loss: 0.6205 - val_accuracy: 0.6655\n",
      "Epoch 4/10\n",
      "146/146 [==============================] - 3s 18ms/step - loss: 0.6252 - accuracy: 0.6618 - val_loss: 0.6193 - val_accuracy: 0.6672\n",
      "Epoch 5/10\n",
      "146/146 [==============================] - 3s 18ms/step - loss: 0.6259 - accuracy: 0.6635 - val_loss: 0.6294 - val_accuracy: 0.6698\n",
      "Epoch 6/10\n",
      "146/146 [==============================] - 3s 17ms/step - loss: 0.6258 - accuracy: 0.6635 - val_loss: 0.6293 - val_accuracy: 0.6552\n",
      "Epoch 7/10\n",
      "146/146 [==============================] - 3s 18ms/step - loss: 0.6257 - accuracy: 0.6609 - val_loss: 0.6203 - val_accuracy: 0.6638\n",
      "Epoch 8/10\n",
      "146/146 [==============================] - 3s 18ms/step - loss: 0.6239 - accuracy: 0.6663 - val_loss: 0.6188 - val_accuracy: 0.6655\n",
      "Epoch 9/10\n",
      "146/146 [==============================] - 3s 18ms/step - loss: 0.6234 - accuracy: 0.6715 - val_loss: 0.6221 - val_accuracy: 0.6638\n",
      "Epoch 10/10\n",
      "146/146 [==============================] - 3s 18ms/step - loss: 0.6214 - accuracy: 0.6697 - val_loss: 0.6226 - val_accuracy: 0.6664\n"
     ]
    }
   ],
   "source": [
    "# CurseDetector 인스턴스 생성\n",
    "curse_detector = CurseDetector()\n",
    "\n",
    "# 모델 학습\n",
    "# curse_detector.train_model(df1.Text, df1.Label)\n",
    "curse_detector.train_model(df1.Text, df1.Label)"
   ]
  },
  {
   "cell_type": "code",
   "execution_count": 18,
   "id": "d5f1bb20",
   "metadata": {},
   "outputs": [
    {
     "data": {
      "text/plain": [
       "array([[0.2631239]], dtype=float32)"
      ]
     },
     "execution_count": 18,
     "metadata": {},
     "output_type": "execute_result"
    }
   ],
   "source": [
    "curse_detector.predict('씨발')"
   ]
  },
  {
   "cell_type": "code",
   "execution_count": null,
   "id": "4322b54d",
   "metadata": {},
   "outputs": [],
   "source": []
  },
  {
   "cell_type": "code",
   "execution_count": 19,
   "id": "cc8b4ddc",
   "metadata": {
    "scrolled": true
   },
   "outputs": [],
   "source": [
    "# data - YouTube 동영상의 자막 가져오기\n",
    "video_id = \"J8DQsTI2bvU\"\n",
    "srt = YouTubeTranscriptApi.get_transcript(video_id, languages=[\"ko\"])\n",
    "\n",
    "# 학습 데이터 생성\n",
    "sentences = [entry['text'] for entry in srt]\n",
    "labels = [1 if '새끼' in entry['text'] \n",
    "          or '돼지' in entry['text'] \n",
    "          or '좆' in entry['text'] \n",
    "          or '엿' in entry['text']\n",
    "          else 0 for entry in srt]\n",
    "\n",
    "\n",
    "# print(sentences)\n",
    "# print(sentences.split)\n",
    "# print(labels)"
   ]
  },
  {
   "cell_type": "code",
   "execution_count": 20,
   "id": "ab4e9141",
   "metadata": {},
   "outputs": [
    {
     "name": "stdout",
     "output_type": "stream",
     "text": [
      "                    Text  Label\n",
      "87  만나서 줄게 수고하십시오 그 유튜버분      0\n",
      "88      아닙니까 그니까 만나서 준다고      0\n",
      "89              어디냐고 아 됐      0\n",
      "90  지금겠습니까한테 언니한테 한 번만 더      0\n",
      "91                   연락해      0\n"
     ]
    }
   ],
   "source": [
    "df = pd.DataFrame({'Text':sentences, 'Label':labels})\n",
    "print(df.tail())"
   ]
  },
  {
   "cell_type": "code",
   "execution_count": 21,
   "id": "84d15119",
   "metadata": {},
   "outputs": [
    {
     "name": "stdout",
     "output_type": "stream",
     "text": [
      "0\n",
      "Epoch 1/10\n",
      "3/3 [==============================] - 3s 272ms/step - loss: 0.6704 - accuracy: 0.9315 - val_loss: 0.5990 - val_accuracy: 1.0000\n",
      "Epoch 2/10\n",
      "3/3 [==============================] - 0s 14ms/step - loss: 0.5993 - accuracy: 0.9315 - val_loss: 0.5024 - val_accuracy: 1.0000\n",
      "Epoch 3/10\n",
      "3/3 [==============================] - 0s 14ms/step - loss: 0.5152 - accuracy: 0.9315 - val_loss: 0.3829 - val_accuracy: 1.0000\n",
      "Epoch 4/10\n",
      "3/3 [==============================] - 0s 14ms/step - loss: 0.4240 - accuracy: 0.9315 - val_loss: 0.2437 - val_accuracy: 1.0000\n",
      "Epoch 5/10\n",
      "3/3 [==============================] - 0s 13ms/step - loss: 0.3279 - accuracy: 0.9315 - val_loss: 0.1151 - val_accuracy: 1.0000\n",
      "Epoch 6/10\n",
      "3/3 [==============================] - 0s 13ms/step - loss: 0.2739 - accuracy: 0.9315 - val_loss: 0.0476 - val_accuracy: 1.0000\n",
      "Epoch 7/10\n",
      "3/3 [==============================] - 0s 13ms/step - loss: 0.3357 - accuracy: 0.9315 - val_loss: 0.0264 - val_accuracy: 1.0000\n",
      "Epoch 8/10\n",
      "3/3 [==============================] - 0s 13ms/step - loss: 0.3238 - accuracy: 0.9315 - val_loss: 0.0360 - val_accuracy: 1.0000\n",
      "Epoch 9/10\n",
      "3/3 [==============================] - 0s 14ms/step - loss: 0.2944 - accuracy: 0.9315 - val_loss: 0.0494 - val_accuracy: 1.0000\n",
      "Epoch 10/10\n",
      "3/3 [==============================] - 0s 14ms/step - loss: 0.2786 - accuracy: 0.9315 - val_loss: 0.0645 - val_accuracy: 1.0000\n"
     ]
    }
   ],
   "source": [
    "# CurseDetector 인스턴스 생성\n",
    "curse_detector = CurseDetector()\n",
    "\n",
    "# 모델 학습\n",
    "curse_detector.train_model(sentences, labels)"
   ]
  },
  {
   "cell_type": "code",
   "execution_count": 22,
   "id": "3b3e8ed1",
   "metadata": {
    "scrolled": true
   },
   "outputs": [
    {
     "name": "stdout",
     "output_type": "stream",
     "text": [
      "[[0.01278533]]\n"
     ]
    }
   ],
   "source": [
    "# 새로운 문장에 대한 예측\n",
    "\n",
    "print(curse_detector.predict('씨발아'))\n",
    "# print(curse_detector.predict('대이지 새끼야'))\n",
    "# print(curse_detector.predict('좆가 짱 든가 그러면 너도 고소해라'))\n",
    "# print(curse_detector.predict('인간새끼가'))\n",
    "# print(curse_detector.predict('새끼야 너 어떻이 새끼야 뭐 언니분이'))"
   ]
  },
  {
   "cell_type": "code",
   "execution_count": null,
   "id": "8b2e26cb",
   "metadata": {},
   "outputs": [],
   "source": []
  },
  {
   "cell_type": "code",
   "execution_count": null,
   "id": "c071c332",
   "metadata": {},
   "outputs": [],
   "source": []
  },
  {
   "cell_type": "code",
   "execution_count": null,
   "id": "eec311e5",
   "metadata": {},
   "outputs": [],
   "source": []
  },
  {
   "cell_type": "code",
   "execution_count": null,
   "id": "20c95102",
   "metadata": {},
   "outputs": [],
   "source": []
  },
  {
   "cell_type": "code",
   "execution_count": null,
   "id": "71264c94",
   "metadata": {},
   "outputs": [],
   "source": []
  },
  {
   "cell_type": "code",
   "execution_count": null,
   "id": "f8352455",
   "metadata": {},
   "outputs": [],
   "source": []
  },
  {
   "cell_type": "code",
   "execution_count": null,
   "id": "e6af3057",
   "metadata": {},
   "outputs": [],
   "source": []
  },
  {
   "cell_type": "code",
   "execution_count": null,
   "id": "586a1cd6",
   "metadata": {},
   "outputs": [],
   "source": []
  },
  {
   "cell_type": "code",
   "execution_count": 23,
   "id": "14a9d366",
   "metadata": {
    "scrolled": false
   },
   "outputs": [
    {
     "name": "stdout",
     "output_type": "stream",
     "text": [
      "Requirement already satisfied: openai in /opt/conda/lib/python3.9/site-packages (0.27.8)\n",
      "Requirement already satisfied: aiohttp in /opt/conda/lib/python3.9/site-packages (from openai) (3.8.4)\n",
      "Requirement already satisfied: requests>=2.20 in /opt/conda/lib/python3.9/site-packages (from openai) (2.26.0)\n",
      "Requirement already satisfied: tqdm in /opt/conda/lib/python3.9/site-packages (from openai) (4.62.3)\n",
      "Requirement already satisfied: certifi>=2017.4.17 in /opt/conda/lib/python3.9/site-packages (from requests>=2.20->openai) (2023.5.7)\n",
      "Requirement already satisfied: urllib3<1.27,>=1.21.1 in /opt/conda/lib/python3.9/site-packages (from requests>=2.20->openai) (1.26.7)\n",
      "Requirement already satisfied: idna<4,>=2.5 in /opt/conda/lib/python3.9/site-packages (from requests>=2.20->openai) (2.10)\n",
      "Requirement already satisfied: charset-normalizer~=2.0.0 in /opt/conda/lib/python3.9/site-packages (from requests>=2.20->openai) (2.0.8)\n",
      "Requirement already satisfied: yarl<2.0,>=1.0 in /opt/conda/lib/python3.9/site-packages (from aiohttp->openai) (1.7.2)\n",
      "Requirement already satisfied: async-timeout<5.0,>=4.0.0a3 in /opt/conda/lib/python3.9/site-packages (from aiohttp->openai) (4.0.1)\n",
      "Requirement already satisfied: aiosignal>=1.1.2 in /opt/conda/lib/python3.9/site-packages (from aiohttp->openai) (1.2.0)\n",
      "Requirement already satisfied: attrs>=17.3.0 in /opt/conda/lib/python3.9/site-packages (from aiohttp->openai) (21.2.0)\n",
      "Requirement already satisfied: multidict<7.0,>=4.5 in /opt/conda/lib/python3.9/site-packages (from aiohttp->openai) (5.2.0)\n",
      "Requirement already satisfied: frozenlist>=1.1.1 in /opt/conda/lib/python3.9/site-packages (from aiohttp->openai) (1.2.0)\n",
      "Requirement already satisfied: typing-extensions>=3.6.5 in /opt/conda/lib/python3.9/site-packages (from async-timeout<5.0,>=4.0.0a3->aiohttp->openai) (4.7.0)\n",
      "\u001b[33mWARNING: Running pip as the 'root' user can result in broken permissions and conflicting behaviour with the system package manager. It is recommended to use a virtual environment instead: https://pip.pypa.io/warnings/venv\u001b[0m\n"
     ]
    }
   ],
   "source": [
    "!pip install openai"
   ]
  },
  {
   "cell_type": "code",
   "execution_count": 24,
   "id": "f2cc358c",
   "metadata": {},
   "outputs": [
    {
     "ename": "ImportError",
     "evalue": "cannot import name 'OpenAI' from 'openai' (/opt/conda/lib/python3.9/site-packages/openai/__init__.py)",
     "output_type": "error",
     "traceback": [
      "\u001b[0;31m---------------------------------------------------------------------------\u001b[0m",
      "\u001b[0;31mImportError\u001b[0m                               Traceback (most recent call last)",
      "\u001b[0;32m/tmp/ipykernel_1398/1937344024.py\u001b[0m in \u001b[0;36m<module>\u001b[0;34m\u001b[0m\n\u001b[0;32m----> 1\u001b[0;31m \u001b[0;32mfrom\u001b[0m \u001b[0mopenai\u001b[0m \u001b[0;32mimport\u001b[0m \u001b[0mOpenAI\u001b[0m\u001b[0;34m\u001b[0m\u001b[0;34m\u001b[0m\u001b[0m\n\u001b[0m\u001b[1;32m      2\u001b[0m \u001b[0;34m\u001b[0m\u001b[0m\n\u001b[1;32m      3\u001b[0m \u001b[0mclient\u001b[0m \u001b[0;34m=\u001b[0m \u001b[0mOpenAI\u001b[0m\u001b[0;34m(\u001b[0m\u001b[0;34m)\u001b[0m\u001b[0;34m\u001b[0m\u001b[0;34m\u001b[0m\u001b[0m\n\u001b[1;32m      4\u001b[0m \u001b[0;34m\u001b[0m\u001b[0m\n\u001b[1;32m      5\u001b[0m response = client.chat.completions.create(\n",
      "\u001b[0;31mImportError\u001b[0m: cannot import name 'OpenAI' from 'openai' (/opt/conda/lib/python3.9/site-packages/openai/__init__.py)"
     ]
    }
   ],
   "source": [
    "from openai import OpenAI\n",
    "\n",
    "client = OpenAI()\n",
    "\n",
    "response = client.chat.completions.create(\n",
    "    model =\"gpt-3.5-turbo\",\n",
    "    \n",
    ")"
   ]
  }
 ],
 "metadata": {
  "kernelspec": {
   "display_name": "Python 3 (ipykernel)",
   "language": "python",
   "name": "python3"
  },
  "language_info": {
   "codemirror_mode": {
    "name": "ipython",
    "version": 3
   },
   "file_extension": ".py",
   "mimetype": "text/x-python",
   "name": "python",
   "nbconvert_exporter": "python",
   "pygments_lexer": "ipython3",
   "version": "3.9.7"
  }
 },
 "nbformat": 4,
 "nbformat_minor": 5
}
