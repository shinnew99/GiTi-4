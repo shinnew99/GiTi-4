{
 "cells": [
  {
   "cell_type": "code",
   "execution_count": null,
   "metadata": {
    "colab": {
     "base_uri": "https://localhost:8080/"
    },
    "executionInfo": {
     "elapsed": 18387,
     "status": "ok",
     "timestamp": 1697707752471,
     "user": {
      "displayName": "이태훈",
      "userId": "05384261363500900500"
     },
     "user_tz": -540
    },
    "id": "nU0vpxh5RCpE",
    "outputId": "1adefd6c-8cec-40ab-f031-5957785c22ac"
   },
   "outputs": [
    {
     "name": "stdout",
     "output_type": "stream",
     "text": [
      "Mounted at /content/drive\n"
     ]
    }
   ],
   "source": [
    "# from google.colab import drive\n",
    "# drive.mount('/content/drive')"
   ]
  },
  {
   "cell_type": "markdown",
   "metadata": {
    "id": "XZ1Fiu385XYW"
   },
   "source": [
    "## 디렉토리 파일 구조(생성완료시)"
   ]
  },
  {
   "cell_type": "markdown",
   "metadata": {
    "id": "vbs8ei96v-AR"
   },
   "source": [
    "> 디렉토리 파일 구조\n",
    "\n",
    "```\n",
    "- MulitmodalERC-TensorMixerNetwork\n",
    "  - assets\n",
    "  - config\n",
    "  - erc\n",
    "  - data\n",
    "  - kemdy19-kemdy20_train4_multilabelTrue_rdeuceFalse\n",
    "  - kemdy19-kemdy20_valid4_multilabelTrue_rdeuceFalse\n",
    "```"
   ]
  },
  {
   "cell_type": "markdown",
   "metadata": {
    "id": "dV2LyQVX7K66"
   },
   "source": [
    "# 선행논문구현-train.py"
   ]
  },
  {
   "cell_type": "markdown",
   "metadata": {
    "id": "DHS4ZNWd7UJO"
   },
   "source": [
    "## Git Clone"
   ]
  },
  {
   "cell_type": "code",
   "execution_count": 1,
   "metadata": {
    "colab": {
     "base_uri": "https://localhost:8080/"
    },
    "executionInfo": {
     "elapsed": 2900,
     "status": "ok",
     "timestamp": 1697707646720,
     "user": {
      "displayName": "이태훈",
      "userId": "05384261363500900500"
     },
     "user_tz": -540
    },
    "id": "LF4vfFC-7UJO",
    "outputId": "165a6fc9-af07-4843-b92e-f6c3783c0312"
   },
   "outputs": [
    {
     "name": "stdout",
     "output_type": "stream",
     "text": [
      "Reading package lists... Done\n",
      "Building dependency tree       \n",
      "Reading state information... Done\n",
      "git is already the newest version (1:2.25.1-1ubuntu3.2).\n",
      "The following packages were automatically installed and are no longer required:\n",
      "  accountsservice-ubuntu-schemas bc bluez-obexd cups cups-browsed cups-client\n",
      "  cups-common cups-core-drivers cups-daemon cups-filters\n",
      "  cups-filters-core-drivers cups-ipp-utils cups-ppdc cups-server-common\n",
      "  fonts-droid-fallback fonts-noto-mono fonts-urw-base35 ghostscript\n",
      "  gir1.2-dbusmenu-glib-0.4 gnome-bluetooth gnome-power-manager\n",
      "  gnome-screensaver gsettings-ubuntu-schemas gvfs-backends indicator-applet\n",
      "  indicator-application indicator-appmenu indicator-bluetooth indicator-common\n",
      "  indicator-datetime indicator-keyboard indicator-messages indicator-power\n",
      "  indicator-printers indicator-session indicator-sound jayatana\n",
      "  libaccounts-glib0 libbamf3-2 libcdio-cdda2 libcdio-paranoia2 libcdio18\n",
      "  libcupsfilters1 libfcitx-config4 libfcitx-gclient1 libfcitx-utils0\n",
      "  libfontembed1 libgnome-panel0 libgs9 libgs9-common libido3-0.1-0 libijs-0.35\n",
      "  libindicator3-7 libjbig2dec0 liblightdm-gobject-1-0 liblouis-data liblouis20\n",
      "  liblouisutdml-bin liblouisutdml-data liblouisutdml9 libmessaging-menu0\n",
      "  libmtp-common libmtp-runtime libmtp9 libnfs13 libpaper-utils libpaper1\n",
      "  libpoppler-cpp0v5 libqpdf26 libunity-gtk2-parser0 libunity-gtk3-parser0\n",
      "  libunity-settings-daemon1 liburl-dispatcher1 lightdm nautilus-data\n",
      "  poppler-utils python3-psutil python3-xdg ssl-cert ubuntu-touch-sounds\n",
      "  unity-greeter unity-gtk-module-common unity-gtk2-module unity-gtk3-module\n",
      "  unity-settings-daemon unity-settings-daemon-schemas\n",
      "Use 'apt autoremove' to remove them.\n",
      "0 upgraded, 0 newly installed, 0 to remove and 0 not upgraded.\n"
     ]
    }
   ],
   "source": [
    "!apt-get install git"
   ]
  },
  {
   "cell_type": "code",
   "execution_count": 2,
   "metadata": {
    "id": "thW6hQP3ZNeW"
   },
   "outputs": [
    {
     "name": "stdout",
     "output_type": "stream",
     "text": [
      "Cloning into 'MulitmodalERC-TensorMixerNetwork'...\n",
      "remote: Enumerating objects: 1551, done.\u001b[K\n",
      "remote: Counting objects: 100% (410/410), done.\u001b[K\n",
      "remote: Compressing objects: 100% (200/200), done.\u001b[K\n",
      "remote: Total 1551 (delta 251), reused 252 (delta 210), pack-reused 1141\u001b[K\n",
      "Receiving objects: 100% (1551/1551), 18.34 MiB | 35.23 MiB/s, done.\n",
      "Resolving deltas: 100% (1024/1024), done.\n"
     ]
    }
   ],
   "source": [
    "!git clone https://github.com/git-ThLee/MulitmodalERC-TensorMixerNetwork"
   ]
  },
  {
   "cell_type": "code",
   "execution_count": 3,
   "metadata": {
    "colab": {
     "base_uri": "https://localhost:8080/"
    },
    "executionInfo": {
     "elapsed": 1802,
     "status": "ok",
     "timestamp": 1697707648516,
     "user": {
      "displayName": "이태훈",
      "userId": "05384261363500900500"
     },
     "user_tz": -540
    },
    "id": "zjvN0vbm7UJQ",
    "outputId": "9dcb74d5-82d7-4124-a52d-3cd8f879ed98"
   },
   "outputs": [],
   "source": [
    "# !git clone https://github.com/1pha/MulitmodalERC-TensorMixerNetwork.git"
   ]
  },
  {
   "cell_type": "markdown",
   "metadata": {
    "id": "bwcV_5PG7UJQ"
   },
   "source": [
    "## Install"
   ]
  },
  {
   "cell_type": "code",
   "execution_count": 4,
   "metadata": {
    "id": "nEzNGW4w7UJQ"
   },
   "outputs": [
    {
     "name": "stdout",
     "output_type": "stream",
     "text": [
      "\u001b[31mERROR: Could not open requirements file: [Errno 2] No such file or directory: '/content/MulitmodalERC-TensorMixerNetwork/requirements.txt'\u001b[0m\r\n"
     ]
    }
   ],
   "source": [
    "!pip install -r /content/MulitmodalERC-TensorMixerNetwork/requirements.txt"
   ]
  },
  {
   "cell_type": "code",
   "execution_count": 5,
   "metadata": {
    "colab": {
     "base_uri": "https://localhost:8080/"
    },
    "executionInfo": {
     "elapsed": 13391,
     "status": "ok",
     "timestamp": 1697707703452,
     "user": {
      "displayName": "이태훈",
      "userId": "05384261363500900500"
     },
     "user_tz": -540
    },
    "id": "xzyJr1-i7UJR",
    "outputId": "dc8e900c-866e-4c5c-c9a8-603d2c257d5a"
   },
   "outputs": [
    {
     "name": "stdout",
     "output_type": "stream",
     "text": [
      "\u001b[31mERROR: pip's dependency resolver does not currently take into account all the packages that are installed. This behaviour is the source of the following dependency conflicts.\r\n",
      "torchvision 0.13.1 requires pillow!=8.3.*,>=5.3.0, but you have pillow 8.3.2 which is incompatible.\u001b[0m\r\n",
      "\u001b[33mWARNING: Running pip as the 'root' user can result in broken permissions and conflicting behaviour with the system package manager. It is recommended to use a virtual environment instead: https://pip.pypa.io/warnings/venv\u001b[0m\r\n"
     ]
    }
   ],
   "source": [
    "!pip install -q peft"
   ]
  },
  {
   "cell_type": "markdown",
   "metadata": {
    "id": "N78-CkyY70nt"
   },
   "source": [
    "## 데이터셋 준비"
   ]
  },
  {
   "cell_type": "code",
   "execution_count": 6,
   "metadata": {
    "id": "kAZh41py7Qp-"
   },
   "outputs": [],
   "source": [
    "import zipfile\n",
    "import os\n",
    "import shutil"
   ]
  },
  {
   "cell_type": "code",
   "execution_count": 7,
   "metadata": {},
   "outputs": [
    {
     "name": "stdout",
     "output_type": "stream",
     "text": [
      "/aiffel/aiffel/workplace/GiTi-4\r\n"
     ]
    }
   ],
   "source": [
    "!pwd"
   ]
  },
  {
   "cell_type": "code",
   "execution_count": null,
   "metadata": {
    "id": "LFIb3hcH7bS4"
   },
   "outputs": [],
   "source": [
    "# 구글 드라이브에서 공유문서함 디렉토리 입력해주세요\n",
    "# 예시) /content/drive/MyDrive/github\n",
    "GOOGLE_DIR = '/aiffel/aiffel/workplace/GiTi-4/GiTi-4/'"
   ]
  },
  {
   "cell_type": "markdown",
   "metadata": {
    "id": "TsLryb8W8Ae5"
   },
   "source": [
    "### KEMDy19_v1_2.zip"
   ]
  },
  {
   "cell_type": "code",
   "execution_count": null,
   "metadata": {
    "id": "1MRoswRE7dDL"
   },
   "outputs": [],
   "source": [
    "# 19년도 Zip 파일 - Unzip & Move\n",
    "# 약 1분 소요\n",
    "zip_file_19 = os.path.join(GOOGLE_DIR, 'data_zip/KEMDy19_v1_2.zip')\n",
    "extract_folder_19 = '/content/MulitmodalERC-TensorMixerNetwork/data/KEMDy19'\n",
    "\n",
    "# 압축을 해제\n",
    "with zipfile.ZipFile(zip_file_19, 'r') as zip_ref:\n",
    "    zip_ref.extractall(extract_folder_19)"
   ]
  },
  {
   "cell_type": "markdown",
   "metadata": {
    "id": "kGD-y55X8D5T"
   },
   "source": [
    "### KEMDy20_v1_2.zip"
   ]
  },
  {
   "cell_type": "code",
   "execution_count": null,
   "metadata": {
    "id": "3W8C_eRY7ejB"
   },
   "outputs": [],
   "source": [
    "# 20년도 Zip 파일 - Unzip & Move\n",
    "# 약 1분 소요\n",
    "zip_file_20 = os.path.join(GOOGLE_DIR, 'aiffelthon/GiTi-4/data_zip/KEMDy20_v1_2.zip')\n",
    "extract_folder_20 = '/content/MulitmodalERC-TensorMixerNetwork/data/KEMDy20_v1_1'\n",
    "\n",
    "# 압축을 해제\n",
    "with zipfile.ZipFile(zip_file_20, 'r') as zip_ref:\n",
    "    zip_ref.extractall(extract_folder_20)"
   ]
  },
  {
   "cell_type": "markdown",
   "metadata": {
    "id": "wp_J7HNV8HU-"
   },
   "source": [
    "### kemdy19.csv"
   ]
  },
  {
   "cell_type": "code",
   "execution_count": null,
   "metadata": {
    "colab": {
     "base_uri": "https://localhost:8080/",
     "height": 35
    },
    "executionInfo": {
     "elapsed": 16,
     "status": "ok",
     "timestamp": 1697708001685,
     "user": {
      "displayName": "이태훈",
      "userId": "05384261363500900500"
     },
     "user_tz": -540
    },
    "id": "G75qUId18GUK",
    "outputId": "f113ac8f-4d99-498b-96f7-2cab776db358"
   },
   "outputs": [
    {
     "data": {
      "application/vnd.google.colaboratory.intrinsic+json": {
       "type": "string"
      },
      "text/plain": [
       "'/content/MulitmodalERC-TensorMixerNetwork/data/kemdy19.csv'"
      ]
     },
     "execution_count": 11,
     "metadata": {},
     "output_type": "execute_result"
    }
   ],
   "source": [
    "# 약 1초\n",
    "source_file_19 = os.path.join(GOOGLE_DIR,'aiffelthon/GiTi-4/data_zip/kemdy19.csv')\n",
    "destination_dir_19 = '/content/MulitmodalERC-TensorMixerNetwork/data/'\n",
    "\n",
    "shutil.copy(source_file_19, destination_dir_19)"
   ]
  },
  {
   "cell_type": "markdown",
   "metadata": {
    "id": "bguNUnAf8KL_"
   },
   "source": [
    "### kemdy20.csv"
   ]
  },
  {
   "cell_type": "code",
   "execution_count": null,
   "metadata": {
    "colab": {
     "base_uri": "https://localhost:8080/",
     "height": 35
    },
    "executionInfo": {
     "elapsed": 442,
     "status": "ok",
     "timestamp": 1697708002118,
     "user": {
      "displayName": "이태훈",
      "userId": "05384261363500900500"
     },
     "user_tz": -540
    },
    "id": "RuBzOAL-8GWk",
    "outputId": "36d18e68-11a2-4d34-9c82-16172e070495"
   },
   "outputs": [
    {
     "data": {
      "application/vnd.google.colaboratory.intrinsic+json": {
       "type": "string"
      },
      "text/plain": [
       "'/content/MulitmodalERC-TensorMixerNetwork/data/kemdy20.csv'"
      ]
     },
     "execution_count": 12,
     "metadata": {},
     "output_type": "execute_result"
    }
   ],
   "source": [
    "# 약 1초\n",
    "source_file_20 = os.path.join(GOOGLE_DIR,'aiffelthon/GiTi-4/data_zip/kemdy20.csv')\n",
    "destination_dir_20 = '/content/MulitmodalERC-TensorMixerNetwork/data/'\n",
    "\n",
    "shutil.copy(source_file_20, destination_dir_20)"
   ]
  },
  {
   "cell_type": "markdown",
   "metadata": {
    "id": "jfpi4M498obw"
   },
   "source": [
    "### kemdy19-kemdy20_train4_multilabelFalse_rdeuceTrue.zip"
   ]
  },
  {
   "cell_type": "code",
   "execution_count": null,
   "metadata": {
    "id": "LRz5LXFW8GZO"
   },
   "outputs": [],
   "source": [
    "# 약 2분\n",
    "kemdy_train = os.path.join(GOOGLE_DIR, 'aiffelthon/GiTi-4/data_zip/kemdy19-kemdy20_train4_multilabelTrue_rdeuceFalse.zip')\n",
    "extract_kemdy_train = '/content/MulitmodalERC-TensorMixerNetwork/kemdy19-kemdy20_train4_multilabelTrue_rdeuceFalse'\n",
    "\n",
    "# 압축을 해제\n",
    "with zipfile.ZipFile(kemdy_train, 'r') as zip_ref:\n",
    "    zip_ref.extractall(extract_kemdy_train)"
   ]
  },
  {
   "cell_type": "markdown",
   "metadata": {
    "id": "owgpxF668uAW"
   },
   "source": [
    "### kemdy19-kemdy20_valid4_multilabelFalse_rdeuceTrue.zip"
   ]
  },
  {
   "cell_type": "code",
   "execution_count": null,
   "metadata": {
    "id": "vY1FRQxx8GdR"
   },
   "outputs": [],
   "source": [
    "# 약 40초\n",
    "kemdy_valid = os.path.join(GOOGLE_DIR, 'aiffelthon/GiTi-4/data_zip/kemdy19-kemdy20_valid4_multilabelTrue_rdeuceFalse.zip')\n",
    "extract_kemdy_valid = '/content/MulitmodalERC-TensorMixerNetwork/kemdy19-kemdy20_valid4_multilabelTrue_rdeuceFalse'\n",
    "\n",
    "# 압축을 해제\n",
    "with zipfile.ZipFile(kemdy_valid, 'r') as zip_ref:\n",
    "    zip_ref.extractall(extract_kemdy_valid)"
   ]
  },
  {
   "cell_type": "markdown",
   "metadata": {
    "id": "IxjKzwxX_sLN"
   },
   "source": [
    "## 실행"
   ]
  },
  {
   "cell_type": "code",
   "execution_count": null,
   "metadata": {
    "colab": {
     "base_uri": "https://localhost:8080/"
    },
    "executionInfo": {
     "elapsed": 558,
     "status": "ok",
     "timestamp": 1697708576642,
     "user": {
      "displayName": "이태훈",
      "userId": "05384261363500900500"
     },
     "user_tz": -540
    },
    "id": "7kIrSK6gAjjL",
    "outputId": "b9f3c68c-03c8-4212-fee7-010cd9538c88"
   },
   "outputs": [
    {
     "name": "stdout",
     "output_type": "stream",
     "text": [
      "/content/MulitmodalERC-TensorMixerNetwork\n"
     ]
    }
   ],
   "source": [
    "%cd /content/MulitmodalERC-TensorMixerNetwork"
   ]
  },
  {
   "cell_type": "code",
   "execution_count": null,
   "metadata": {
    "id": "0nHM1vqXsHx9"
   },
   "outputs": [],
   "source": [
    "os.environ[\"WANDB_MODE\"] = \"disabled\""
   ]
  },
  {
   "cell_type": "code",
   "execution_count": null,
   "metadata": {
    "id": "ttPEzWARbf4-"
   },
   "outputs": [],
   "source": [
    "# 데이터셋 개수 지정\n",
    "import yaml\n",
    "yaml_file_path = 'config/dataset/hf.yaml'\n",
    "\n",
    "with open(yaml_file_path, 'r') as yaml_file:\n",
    "    yaml_data = yaml.safe_load(yaml_file)\n",
    "\n",
    "# 특정 키 수정\n",
    "yaml_data['num_data'] = 10000 # 수정\n",
    "\n",
    "# 수정된 YAML 파일 저장\n",
    "with open(yaml_file_path, 'w') as yaml_file:\n",
    "    yaml.dump(yaml_data, yaml_file)"
   ]
  },
  {
   "cell_type": "code",
   "execution_count": null,
   "metadata": {
    "colab": {
     "base_uri": "https://localhost:8080/"
    },
    "executionInfo": {
     "elapsed": 29935,
     "status": "ok",
     "timestamp": 1697711643085,
     "user": {
      "displayName": "이태훈",
      "userId": "05384261363500900500"
     },
     "user_tz": -540
    },
    "id": "JmFbL2Cyqnth",
    "outputId": "8d614118-a8b5-49eb-fdf8-0fa56d522fe2"
   },
   "outputs": [
    {
     "name": "stdout",
     "output_type": "stream",
     "text": [
      "2023-10-19 10:33:37.077112: I tensorflow/core/platform/cpu_feature_guard.cc:182] This TensorFlow binary is optimized to use available CPU instructions in performance-critical operations.\n",
      "To enable the following instructions: AVX2 FMA, in other operations, rebuild TensorFlow with the appropriate compiler flags.\n",
      "2023-10-19 10:33:38.483860: W tensorflow/compiler/tf2tensorrt/utils/py_utils.cc:38] TF-TRT Warning: Could not find TensorRT\n",
      "[2023-10-19 10:33:48,738][__main__][INFO] - Start Training\n",
      "[2023-10-19 10:33:48,738][erc.trainer][INFO] - Start Setting up\n",
      "[2023-10-19 10:33:48,742][erc.trainer][INFO] - Start intantiating Models & Optimizers\n",
      "Some weights of the model checkpoint at kresnik/wav2vec2-large-xlsr-korean were not used when initializing Wav2Vec2ForSequenceClassification: ['lm_head.bias', 'lm_head.weight']\n",
      "- This IS expected if you are initializing Wav2Vec2ForSequenceClassification from the checkpoint of a model trained on another task or with another architecture (e.g. initializing a BertForSequenceClassification model from a BertForPreTraining model).\n",
      "- This IS NOT expected if you are initializing Wav2Vec2ForSequenceClassification from the checkpoint of a model that you expect to be exactly identical (initializing a BertForSequenceClassification model from a BertForSequenceClassification model).\n",
      "Some weights of Wav2Vec2ForSequenceClassification were not initialized from the model checkpoint at kresnik/wav2vec2-large-xlsr-korean and are newly initialized: ['classifier.weight', 'projector.bias', 'classifier.bias', 'projector.weight']\n",
      "You should probably TRAIN this model on a down-stream task to be able to use it for predictions and inference.\n",
      "Some weights of the model checkpoint at klue/roberta-large were not used when initializing RobertaForSequenceClassification: ['lm_head.bias', 'lm_head.layer_norm.weight', 'lm_head.layer_norm.bias', 'lm_head.dense.bias', 'lm_head.dense.weight']\n",
      "- This IS expected if you are initializing RobertaForSequenceClassification from the checkpoint of a model trained on another task or with another architecture (e.g. initializing a BertForSequenceClassification model from a BertForPreTraining model).\n",
      "- This IS NOT expected if you are initializing RobertaForSequenceClassification from the checkpoint of a model that you expect to be exactly identical (initializing a BertForSequenceClassification model from a BertForSequenceClassification model).\n",
      "Some weights of RobertaForSequenceClassification were not initialized from the model checkpoint at klue/roberta-large and are newly initialized: ['classifier.out_proj.weight', 'classifier.out_proj.bias', 'classifier.dense.bias', 'classifier.dense.weight']\n",
      "You should probably TRAIN this model on a down-stream task to be able to use it for predictions and inference.\n",
      "[2023-10-19 10:33:57,710][erc.trainer][INFO] - Start instantiating dataloaders\n",
      "[2023-10-19 10:33:57,714][erc.datasets][INFO] - Load train Huggingface KEMD Dataset\n",
      "[2023-10-19 10:33:57,714][erc.datasets][INFO] - Try Loading dataset kemdy19-kemdy20_train4_multilabelTrue_rdeuceFalse from disk\n",
      "[2023-10-19 10:33:57,777][erc.datasets][INFO] - Successfully loaded kemdy19-kemdy20_train4_multilabelTrue_rdeuceFalse from disk\n",
      "[2023-10-19 10:33:57,778][erc.datasets][INFO] - # Datapoints 10000\n",
      "/usr/local/lib/python3.10/dist-packages/torch/utils/data/dataloader.py:560: UserWarning: This DataLoader will create 4 worker processes in total. Our suggested max number of worker in current system is 2, which is smaller than what this DataLoader is going to create. Please be aware that excessive worker creation might get DataLoader running slow or even freeze, lower the worker number to avoid potential slowness/freeze if necessary.\n",
      "  warnings.warn(_create_warning_msg(\n",
      "[2023-10-19 10:33:57,787][erc.datasets][INFO] - Load valid Huggingface KEMD Dataset\n",
      "[2023-10-19 10:33:57,787][erc.datasets][INFO] - Try Loading dataset kemdy19-kemdy20_valid4_multilabelTrue_rdeuceFalse from disk\n",
      "[2023-10-19 10:33:57,798][erc.datasets][INFO] - Successfully loaded kemdy19-kemdy20_valid4_multilabelTrue_rdeuceFalse from disk\n",
      "[2023-10-19 10:33:57,798][erc.datasets][INFO] - # Datapoints 4930\n",
      "[2023-10-19 10:33:57,804][erc.trainer][INFO] - Start instantiating Pytorch-Lightning Trainer\n",
      "Error executing job with overrides: []\n",
      "Error in call to target 'pytorch_lightning.trainer.trainer.Trainer':\n",
      "MisconfigurationException('No supported gpu backend found!')\n",
      "full_key: trainer\n",
      "\n",
      "Set the environment variable HYDRA_FULL_ERROR=1 for a complete stack trace.\n"
     ]
    }
   ],
   "source": [
    "!python train.py"
   ]
  },
  {
   "cell_type": "markdown",
   "metadata": {
    "id": "fpqATFLDZsU7"
   },
   "source": [
    "- 기존 18529 , 4930"
   ]
  },
  {
   "cell_type": "code",
   "execution_count": null,
   "metadata": {
    "id": "iXvMSgkTVQAk"
   },
   "outputs": [],
   "source": [
    "!python train.py"
   ]
  }
 ],
 "metadata": {
  "colab": {
   "provenance": [],
   "toc_visible": true
  },
  "kernelspec": {
   "display_name": "Python 3 (ipykernel)",
   "language": "python",
   "name": "python3"
  },
  "language_info": {
   "codemirror_mode": {
    "name": "ipython",
    "version": 3
   },
   "file_extension": ".py",
   "mimetype": "text/x-python",
   "name": "python",
   "nbconvert_exporter": "python",
   "pygments_lexer": "ipython3",
   "version": "3.9.7"
  }
 },
 "nbformat": 4,
 "nbformat_minor": 1
}
