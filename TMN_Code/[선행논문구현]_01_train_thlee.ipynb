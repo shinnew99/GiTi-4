{
 "cells": [
  {
   "cell_type": "code",
   "execution_count": 1,
   "metadata": {
    "colab": {
     "base_uri": "https://localhost:8080/"
    },
    "executionInfo": {
     "elapsed": 18387,
     "status": "ok",
     "timestamp": 1697707752471,
     "user": {
      "displayName": "이태훈",
      "userId": "05384261363500900500"
     },
     "user_tz": -540
    },
    "id": "nU0vpxh5RCpE",
    "outputId": "1adefd6c-8cec-40ab-f031-5957785c22ac"
   },
   "outputs": [],
   "source": [
    "# from google.colab import drive\n",
    "# drive.mount('/content/drive')"
   ]
  },
  {
   "cell_type": "markdown",
   "metadata": {
    "id": "XZ1Fiu385XYW"
   },
   "source": [
    "## 디렉토리 파일 구조(생성완료시)"
   ]
  },
  {
   "cell_type": "markdown",
   "metadata": {
    "id": "vbs8ei96v-AR"
   },
   "source": [
    "> 디렉토리 파일 구조\n",
    "\n",
    "```\n",
    "- MulitmodalERC-TensorMixerNetwork\n",
    "  - assets\n",
    "  - config\n",
    "  - erc\n",
    "  - data\n",
    "  - kemdy19-kemdy20_train4_multilabelTrue_rdeuceFalse\n",
    "  - kemdy19-kemdy20_valid4_multilabelTrue_rdeuceFalse\n",
    "```"
   ]
  },
  {
   "cell_type": "markdown",
   "metadata": {
    "id": "dV2LyQVX7K66"
   },
   "source": [
    "# 선행논문구현-train.py"
   ]
  },
  {
   "cell_type": "markdown",
   "metadata": {
    "id": "DHS4ZNWd7UJO"
   },
   "source": [
    "## Git Clone"
   ]
  },
  {
   "cell_type": "code",
   "execution_count": 2,
   "metadata": {
    "colab": {
     "base_uri": "https://localhost:8080/"
    },
    "executionInfo": {
     "elapsed": 2900,
     "status": "ok",
     "timestamp": 1697707646720,
     "user": {
      "displayName": "이태훈",
      "userId": "05384261363500900500"
     },
     "user_tz": -540
    },
    "id": "LF4vfFC-7UJO",
    "outputId": "165a6fc9-af07-4843-b92e-f6c3783c0312"
   },
   "outputs": [
    {
     "name": "stdout",
     "output_type": "stream",
     "text": [
      "Reading package lists... Done\n",
      "Building dependency tree       \n",
      "Reading state information... Done\n",
      "git is already the newest version (1:2.25.1-1ubuntu3.2).\n",
      "The following packages were automatically installed and are no longer required:\n",
      "  accountsservice-ubuntu-schemas bc bluez-obexd cups cups-browsed cups-client\n",
      "  cups-common cups-core-drivers cups-daemon cups-filters\n",
      "  cups-filters-core-drivers cups-ipp-utils cups-ppdc cups-server-common\n",
      "  fonts-droid-fallback fonts-noto-mono fonts-urw-base35 ghostscript\n",
      "  gir1.2-dbusmenu-glib-0.4 gnome-bluetooth gnome-power-manager\n",
      "  gnome-screensaver gsettings-ubuntu-schemas gvfs-backends indicator-applet\n",
      "  indicator-application indicator-appmenu indicator-bluetooth indicator-common\n",
      "  indicator-datetime indicator-keyboard indicator-messages indicator-power\n",
      "  indicator-printers indicator-session indicator-sound jayatana\n",
      "  libaccounts-glib0 libbamf3-2 libcdio-cdda2 libcdio-paranoia2 libcdio18\n",
      "  libcupsfilters1 libfcitx-config4 libfcitx-gclient1 libfcitx-utils0\n",
      "  libfontembed1 libgnome-panel0 libgs9 libgs9-common libido3-0.1-0 libijs-0.35\n",
      "  libindicator3-7 libjbig2dec0 liblightdm-gobject-1-0 liblouis-data liblouis20\n",
      "  liblouisutdml-bin liblouisutdml-data liblouisutdml9 libmessaging-menu0\n",
      "  libmtp-common libmtp-runtime libmtp9 libnfs13 libpaper-utils libpaper1\n",
      "  libpoppler-cpp0v5 libqpdf26 libunity-gtk2-parser0 libunity-gtk3-parser0\n",
      "  libunity-settings-daemon1 liburl-dispatcher1 lightdm nautilus-data\n",
      "  poppler-utils python3-psutil python3-xdg ssl-cert ubuntu-touch-sounds\n",
      "  unity-greeter unity-gtk-module-common unity-gtk2-module unity-gtk3-module\n",
      "  unity-settings-daemon unity-settings-daemon-schemas\n",
      "Use 'apt autoremove' to remove them.\n",
      "0 upgraded, 0 newly installed, 0 to remove and 0 not upgraded.\n"
     ]
    }
   ],
   "source": [
    "!apt-get install git"
   ]
  },
  {
   "cell_type": "code",
   "execution_count": 3,
   "metadata": {
    "id": "thW6hQP3ZNeW"
   },
   "outputs": [
    {
     "name": "stdout",
     "output_type": "stream",
     "text": [
      "fatal: destination path 'MulitmodalERC-TensorMixerNetwork' already exists and is not an empty directory.\r\n"
     ]
    }
   ],
   "source": [
    "!git clone https://github.com/git-ThLee/MulitmodalERC-TensorMixerNetwork"
   ]
  },
  {
   "cell_type": "code",
   "execution_count": 4,
   "metadata": {
    "colab": {
     "base_uri": "https://localhost:8080/"
    },
    "executionInfo": {
     "elapsed": 1802,
     "status": "ok",
     "timestamp": 1697707648516,
     "user": {
      "displayName": "이태훈",
      "userId": "05384261363500900500"
     },
     "user_tz": -540
    },
    "id": "zjvN0vbm7UJQ",
    "outputId": "9dcb74d5-82d7-4124-a52d-3cd8f879ed98"
   },
   "outputs": [],
   "source": [
    "# !git clone https://github.com/1pha/MulitmodalERC-TensorMixerNetwork.git"
   ]
  },
  {
   "cell_type": "markdown",
   "metadata": {
    "id": "bwcV_5PG7UJQ"
   },
   "source": [
    "## Install"
   ]
  },
  {
   "cell_type": "code",
   "execution_count": 7,
   "metadata": {},
   "outputs": [
    {
     "name": "stdout",
     "output_type": "stream",
     "text": [
      "/aiffel/aiffel/workplace/GiTi-4/GiTi-4\r\n"
     ]
    }
   ],
   "source": [
    "!pwd"
   ]
  },
  {
   "cell_type": "code",
   "execution_count": 9,
   "metadata": {
    "id": "nEzNGW4w7UJQ"
   },
   "outputs": [
    {
     "name": "stdout",
     "output_type": "stream",
     "text": [
      "Collecting pytorch-lightning==1.9.4\n",
      "  Downloading pytorch_lightning-1.9.4-py3-none-any.whl (827 kB)\n",
      "     |████████████████████████████████| 827 kB 6.0 MB/s            \n",
      "\u001b[?25hCollecting flake8\n",
      "  Downloading flake8-6.1.0-py2.py3-none-any.whl (58 kB)\n",
      "     |████████████████████████████████| 58 kB 10.9 MB/s            \n",
      "\u001b[?25hRequirement already satisfied: black in /opt/conda/lib/python3.9/site-packages (from -r /aiffel/aiffel/workplace/GiTi-4/GiTi-4/MulitmodalERC-TensorMixerNetwork/requirements.txt (line 3)) (21.12b0)\n",
      "Collecting jupyter\n",
      "  Downloading jupyter-1.0.0-py2.py3-none-any.whl (2.7 kB)\n",
      "Requirement already satisfied: ipykernel in /opt/conda/lib/python3.9/site-packages (from -r /aiffel/aiffel/workplace/GiTi-4/GiTi-4/MulitmodalERC-TensorMixerNetwork/requirements.txt (line 5)) (6.6.0)\n",
      "Requirement already satisfied: pandas in /opt/conda/lib/python3.9/site-packages (from -r /aiffel/aiffel/workplace/GiTi-4/GiTi-4/MulitmodalERC-TensorMixerNetwork/requirements.txt (line 6)) (1.3.3)\n",
      "Requirement already satisfied: numpy in /opt/conda/lib/python3.9/site-packages (from -r /aiffel/aiffel/workplace/GiTi-4/GiTi-4/MulitmodalERC-TensorMixerNetwork/requirements.txt (line 7)) (1.21.4)\n",
      "Requirement already satisfied: hydra-core in /opt/conda/lib/python3.9/site-packages (from -r /aiffel/aiffel/workplace/GiTi-4/GiTi-4/MulitmodalERC-TensorMixerNetwork/requirements.txt (line 8)) (1.1.1)\n",
      "Requirement already satisfied: matplotlib in /opt/conda/lib/python3.9/site-packages (from -r /aiffel/aiffel/workplace/GiTi-4/GiTi-4/MulitmodalERC-TensorMixerNetwork/requirements.txt (line 9)) (3.4.3)\n",
      "Requirement already satisfied: seaborn in /opt/conda/lib/python3.9/site-packages (from -r /aiffel/aiffel/workplace/GiTi-4/GiTi-4/MulitmodalERC-TensorMixerNetwork/requirements.txt (line 10)) (0.11.2)\n",
      "Requirement already satisfied: tqdm in /opt/conda/lib/python3.9/site-packages (from -r /aiffel/aiffel/workplace/GiTi-4/GiTi-4/MulitmodalERC-TensorMixerNetwork/requirements.txt (line 11)) (4.62.3)\n",
      "Collecting torchmetrics\n",
      "  Downloading torchmetrics-1.2.0-py3-none-any.whl (805 kB)\n",
      "     |████████████████████████████████| 805 kB 65.9 MB/s            \n",
      "\u001b[?25hCollecting transformers==4.26.1\n",
      "  Downloading transformers-4.26.1-py3-none-any.whl (6.3 MB)\n",
      "     |████████████████████████████████| 6.3 MB 61.9 MB/s            \n",
      "\u001b[?25hRequirement already satisfied: scipy in /opt/conda/lib/python3.9/site-packages (from -r /aiffel/aiffel/workplace/GiTi-4/GiTi-4/MulitmodalERC-TensorMixerNetwork/requirements.txt (line 14)) (1.7.1)\n",
      "Collecting pytest\n",
      "  Downloading pytest-7.4.2-py3-none-any.whl (324 kB)\n",
      "     |████████████████████████████████| 324 kB 94.5 MB/s            \n",
      "\u001b[?25hCollecting fire\n",
      "  Downloading fire-0.5.0.tar.gz (88 kB)\n",
      "     |████████████████████████████████| 88 kB 12.8 MB/s            \n",
      "\u001b[?25h  Preparing metadata (setup.py) ... \u001b[?25ldone\n",
      "\u001b[?25hCollecting jiwer\n",
      "  Downloading jiwer-3.0.3-py3-none-any.whl (21 kB)\n",
      "Requirement already satisfied: datasets in /opt/conda/lib/python3.9/site-packages (from -r /aiffel/aiffel/workplace/GiTi-4/GiTi-4/MulitmodalERC-TensorMixerNetwork/requirements.txt (line 18)) (2.13.1)\n",
      "Requirement already satisfied: accelerate in /opt/conda/lib/python3.9/site-packages (from -r /aiffel/aiffel/workplace/GiTi-4/GiTi-4/MulitmodalERC-TensorMixerNetwork/requirements.txt (line 19)) (0.20.3)\n",
      "Collecting wandb\n",
      "  Downloading wandb-0.15.12-py3-none-any.whl (2.1 MB)\n",
      "     |████████████████████████████████| 2.1 MB 69.8 MB/s            \n",
      "\u001b[?25hCollecting einops\n",
      "  Downloading einops-0.7.0-py3-none-any.whl (44 kB)\n",
      "     |████████████████████████████████| 44 kB 6.0 MB/s             \n",
      "\u001b[?25hRequirement already satisfied: scikit-learn in /opt/conda/lib/python3.9/site-packages (from -r /aiffel/aiffel/workplace/GiTi-4/GiTi-4/MulitmodalERC-TensorMixerNetwork/requirements.txt (line 23)) (1.0)\n",
      "Requirement already satisfied: PyYAML>=5.4 in /opt/conda/lib/python3.9/site-packages (from pytorch-lightning==1.9.4->-r /aiffel/aiffel/workplace/GiTi-4/GiTi-4/MulitmodalERC-TensorMixerNetwork/requirements.txt (line 1)) (6.0)\n",
      "Requirement already satisfied: typing-extensions>=4.0.0 in /opt/conda/lib/python3.9/site-packages (from pytorch-lightning==1.9.4->-r /aiffel/aiffel/workplace/GiTi-4/GiTi-4/MulitmodalERC-TensorMixerNetwork/requirements.txt (line 1)) (4.7.0)\n",
      "Requirement already satisfied: packaging>=17.1 in /opt/conda/lib/python3.9/site-packages (from pytorch-lightning==1.9.4->-r /aiffel/aiffel/workplace/GiTi-4/GiTi-4/MulitmodalERC-TensorMixerNetwork/requirements.txt (line 1)) (21.3)\n",
      "Requirement already satisfied: fsspec[http]>2021.06.0 in /opt/conda/lib/python3.9/site-packages (from pytorch-lightning==1.9.4->-r /aiffel/aiffel/workplace/GiTi-4/GiTi-4/MulitmodalERC-TensorMixerNetwork/requirements.txt (line 1)) (2021.11.1)\n",
      "Collecting lightning-utilities>=0.6.0.post0\n",
      "  Downloading lightning_utilities-0.9.0-py3-none-any.whl (23 kB)\n",
      "Requirement already satisfied: torch>=1.10.0 in /opt/conda/lib/python3.9/site-packages (from pytorch-lightning==1.9.4->-r /aiffel/aiffel/workplace/GiTi-4/GiTi-4/MulitmodalERC-TensorMixerNetwork/requirements.txt (line 1)) (2.1.0)\n",
      "Requirement already satisfied: regex!=2019.12.17 in /opt/conda/lib/python3.9/site-packages (from transformers==4.26.1->-r /aiffel/aiffel/workplace/GiTi-4/GiTi-4/MulitmodalERC-TensorMixerNetwork/requirements.txt (line 13)) (2021.11.10)\n",
      "Requirement already satisfied: filelock in /opt/conda/lib/python3.9/site-packages (from transformers==4.26.1->-r /aiffel/aiffel/workplace/GiTi-4/GiTi-4/MulitmodalERC-TensorMixerNetwork/requirements.txt (line 13)) (3.12.2)\n",
      "Requirement already satisfied: requests in /opt/conda/lib/python3.9/site-packages (from transformers==4.26.1->-r /aiffel/aiffel/workplace/GiTi-4/GiTi-4/MulitmodalERC-TensorMixerNetwork/requirements.txt (line 13)) (2.26.0)\n",
      "Requirement already satisfied: tokenizers!=0.11.3,<0.14,>=0.11.1 in /opt/conda/lib/python3.9/site-packages (from transformers==4.26.1->-r /aiffel/aiffel/workplace/GiTi-4/GiTi-4/MulitmodalERC-TensorMixerNetwork/requirements.txt (line 13)) (0.13.3)\n",
      "Requirement already satisfied: huggingface-hub<1.0,>=0.11.0 in /opt/conda/lib/python3.9/site-packages (from transformers==4.26.1->-r /aiffel/aiffel/workplace/GiTi-4/GiTi-4/MulitmodalERC-TensorMixerNetwork/requirements.txt (line 13)) (0.15.1)\n",
      "Collecting mccabe<0.8.0,>=0.7.0\n",
      "  Downloading mccabe-0.7.0-py2.py3-none-any.whl (7.3 kB)\n",
      "Collecting pycodestyle<2.12.0,>=2.11.0\n",
      "  Downloading pycodestyle-2.11.1-py2.py3-none-any.whl (31 kB)\n",
      "Collecting pyflakes<3.2.0,>=3.1.0\n",
      "  Downloading pyflakes-3.1.0-py2.py3-none-any.whl (62 kB)\n",
      "     |████████████████████████████████| 62 kB 2.1 MB/s             \n",
      "\u001b[?25hRequirement already satisfied: platformdirs>=2 in /opt/conda/lib/python3.9/site-packages (from black->-r /aiffel/aiffel/workplace/GiTi-4/GiTi-4/MulitmodalERC-TensorMixerNetwork/requirements.txt (line 3)) (3.8.0)\n",
      "Requirement already satisfied: tomli<2.0.0,>=0.2.6 in /opt/conda/lib/python3.9/site-packages (from black->-r /aiffel/aiffel/workplace/GiTi-4/GiTi-4/MulitmodalERC-TensorMixerNetwork/requirements.txt (line 3)) (1.2.2)\n",
      "Requirement already satisfied: click>=7.1.2 in /opt/conda/lib/python3.9/site-packages (from black->-r /aiffel/aiffel/workplace/GiTi-4/GiTi-4/MulitmodalERC-TensorMixerNetwork/requirements.txt (line 3)) (8.0.3)\n",
      "Requirement already satisfied: mypy-extensions>=0.4.3 in /opt/conda/lib/python3.9/site-packages (from black->-r /aiffel/aiffel/workplace/GiTi-4/GiTi-4/MulitmodalERC-TensorMixerNetwork/requirements.txt (line 3)) (0.4.3)\n",
      "Requirement already satisfied: pathspec<1,>=0.9.0 in /opt/conda/lib/python3.9/site-packages (from black->-r /aiffel/aiffel/workplace/GiTi-4/GiTi-4/MulitmodalERC-TensorMixerNetwork/requirements.txt (line 3)) (0.9.0)\n",
      "Collecting jupyter-console\n",
      "  Downloading jupyter_console-6.6.3-py3-none-any.whl (24 kB)\n",
      "Requirement already satisfied: nbconvert in /opt/conda/lib/python3.9/site-packages (from jupyter->-r /aiffel/aiffel/workplace/GiTi-4/GiTi-4/MulitmodalERC-TensorMixerNetwork/requirements.txt (line 4)) (6.3.0)\n",
      "Collecting qtconsole\n",
      "  Downloading qtconsole-5.4.4-py3-none-any.whl (121 kB)\n",
      "     |████████████████████████████████| 121 kB 71.0 MB/s            \n",
      "\u001b[?25hRequirement already satisfied: ipywidgets in /opt/conda/lib/python3.9/site-packages (from jupyter->-r /aiffel/aiffel/workplace/GiTi-4/GiTi-4/MulitmodalERC-TensorMixerNetwork/requirements.txt (line 4)) (7.6.5)\n",
      "Requirement already satisfied: notebook in /opt/conda/lib/python3.9/site-packages (from jupyter->-r /aiffel/aiffel/workplace/GiTi-4/GiTi-4/MulitmodalERC-TensorMixerNetwork/requirements.txt (line 4)) (6.1.6)\n",
      "Requirement already satisfied: jupyter-client<8.0 in /opt/conda/lib/python3.9/site-packages (from ipykernel->-r /aiffel/aiffel/workplace/GiTi-4/GiTi-4/MulitmodalERC-TensorMixerNetwork/requirements.txt (line 5)) (7.1.0)\n",
      "Requirement already satisfied: debugpy<2.0,>=1.0.0 in /opt/conda/lib/python3.9/site-packages (from ipykernel->-r /aiffel/aiffel/workplace/GiTi-4/GiTi-4/MulitmodalERC-TensorMixerNetwork/requirements.txt (line 5)) (1.5.1)\n",
      "Requirement already satisfied: tornado<7.0,>=4.2 in /opt/conda/lib/python3.9/site-packages (from ipykernel->-r /aiffel/aiffel/workplace/GiTi-4/GiTi-4/MulitmodalERC-TensorMixerNetwork/requirements.txt (line 5)) (6.1)\n",
      "Requirement already satisfied: traitlets<6.0,>=5.1.0 in /opt/conda/lib/python3.9/site-packages (from ipykernel->-r /aiffel/aiffel/workplace/GiTi-4/GiTi-4/MulitmodalERC-TensorMixerNetwork/requirements.txt (line 5)) (5.1.1)\n",
      "Requirement already satisfied: matplotlib-inline<0.2.0,>=0.1.0 in /opt/conda/lib/python3.9/site-packages (from ipykernel->-r /aiffel/aiffel/workplace/GiTi-4/GiTi-4/MulitmodalERC-TensorMixerNetwork/requirements.txt (line 5)) (0.1.3)\n",
      "Requirement already satisfied: ipython>=7.23.1 in /opt/conda/lib/python3.9/site-packages (from ipykernel->-r /aiffel/aiffel/workplace/GiTi-4/GiTi-4/MulitmodalERC-TensorMixerNetwork/requirements.txt (line 5)) (7.28.0)\n",
      "Requirement already satisfied: pytz>=2017.3 in /opt/conda/lib/python3.9/site-packages (from pandas->-r /aiffel/aiffel/workplace/GiTi-4/GiTi-4/MulitmodalERC-TensorMixerNetwork/requirements.txt (line 6)) (2021.3)\n",
      "Requirement already satisfied: python-dateutil>=2.7.3 in /opt/conda/lib/python3.9/site-packages (from pandas->-r /aiffel/aiffel/workplace/GiTi-4/GiTi-4/MulitmodalERC-TensorMixerNetwork/requirements.txt (line 6)) (2.8.2)\n",
      "Requirement already satisfied: omegaconf==2.1.* in /opt/conda/lib/python3.9/site-packages (from hydra-core->-r /aiffel/aiffel/workplace/GiTi-4/GiTi-4/MulitmodalERC-TensorMixerNetwork/requirements.txt (line 8)) (2.1.1)\n",
      "Requirement already satisfied: antlr4-python3-runtime==4.8 in /opt/conda/lib/python3.9/site-packages (from hydra-core->-r /aiffel/aiffel/workplace/GiTi-4/GiTi-4/MulitmodalERC-TensorMixerNetwork/requirements.txt (line 8)) (4.8)\n"
     ]
    },
    {
     "name": "stdout",
     "output_type": "stream",
     "text": [
      "Requirement already satisfied: kiwisolver>=1.0.1 in /opt/conda/lib/python3.9/site-packages (from matplotlib->-r /aiffel/aiffel/workplace/GiTi-4/GiTi-4/MulitmodalERC-TensorMixerNetwork/requirements.txt (line 9)) (1.3.2)\n",
      "Requirement already satisfied: pillow>=6.2.0 in /opt/conda/lib/python3.9/site-packages (from matplotlib->-r /aiffel/aiffel/workplace/GiTi-4/GiTi-4/MulitmodalERC-TensorMixerNetwork/requirements.txt (line 9)) (8.3.2)\n",
      "Requirement already satisfied: cycler>=0.10 in /opt/conda/lib/python3.9/site-packages (from matplotlib->-r /aiffel/aiffel/workplace/GiTi-4/GiTi-4/MulitmodalERC-TensorMixerNetwork/requirements.txt (line 9)) (0.11.0)\n",
      "Requirement already satisfied: pyparsing>=2.2.1 in /opt/conda/lib/python3.9/site-packages (from matplotlib->-r /aiffel/aiffel/workplace/GiTi-4/GiTi-4/MulitmodalERC-TensorMixerNetwork/requirements.txt (line 9)) (3.0.6)\n",
      "Collecting iniconfig\n",
      "  Downloading iniconfig-2.0.0-py3-none-any.whl (5.9 kB)\n",
      "Collecting pluggy<2.0,>=0.12\n",
      "  Downloading pluggy-1.3.0-py3-none-any.whl (18 kB)\n",
      "Collecting exceptiongroup>=1.0.0rc8\n",
      "  Downloading exceptiongroup-1.1.3-py3-none-any.whl (14 kB)\n",
      "Requirement already satisfied: six in /opt/conda/lib/python3.9/site-packages (from fire->-r /aiffel/aiffel/workplace/GiTi-4/GiTi-4/MulitmodalERC-TensorMixerNetwork/requirements.txt (line 16)) (1.16.0)\n",
      "Requirement already satisfied: termcolor in /opt/conda/lib/python3.9/site-packages (from fire->-r /aiffel/aiffel/workplace/GiTi-4/GiTi-4/MulitmodalERC-TensorMixerNetwork/requirements.txt (line 16)) (1.1.0)\n",
      "Collecting click>=7.1.2\n",
      "  Downloading click-8.1.7-py3-none-any.whl (97 kB)\n",
      "     |████████████████████████████████| 97 kB 12.0 MB/s            \n",
      "\u001b[?25hCollecting rapidfuzz<4,>=3\n",
      "  Downloading rapidfuzz-3.4.0-cp39-cp39-manylinux_2_17_x86_64.manylinux2014_x86_64.whl (3.2 MB)\n",
      "     |████████████████████████████████| 3.2 MB 68.1 MB/s            \n",
      "\u001b[?25hRequirement already satisfied: aiohttp in /opt/conda/lib/python3.9/site-packages (from datasets->-r /aiffel/aiffel/workplace/GiTi-4/GiTi-4/MulitmodalERC-TensorMixerNetwork/requirements.txt (line 18)) (3.8.4)\n",
      "Requirement already satisfied: xxhash in /opt/conda/lib/python3.9/site-packages (from datasets->-r /aiffel/aiffel/workplace/GiTi-4/GiTi-4/MulitmodalERC-TensorMixerNetwork/requirements.txt (line 18)) (2.0.2)\n",
      "Requirement already satisfied: pyarrow>=8.0.0 in /opt/conda/lib/python3.9/site-packages (from datasets->-r /aiffel/aiffel/workplace/GiTi-4/GiTi-4/MulitmodalERC-TensorMixerNetwork/requirements.txt (line 18)) (12.0.1)\n",
      "Requirement already satisfied: multiprocess in /opt/conda/lib/python3.9/site-packages (from datasets->-r /aiffel/aiffel/workplace/GiTi-4/GiTi-4/MulitmodalERC-TensorMixerNetwork/requirements.txt (line 18)) (0.70.12.2)\n",
      "Requirement already satisfied: dill<0.3.7,>=0.3.0 in /opt/conda/lib/python3.9/site-packages (from datasets->-r /aiffel/aiffel/workplace/GiTi-4/GiTi-4/MulitmodalERC-TensorMixerNetwork/requirements.txt (line 18)) (0.3.4)\n",
      "Requirement already satisfied: psutil in /opt/conda/lib/python3.9/site-packages (from accelerate->-r /aiffel/aiffel/workplace/GiTi-4/GiTi-4/MulitmodalERC-TensorMixerNetwork/requirements.txt (line 19)) (5.8.0)\n",
      "Collecting docker-pycreds>=0.4.0\n",
      "  Downloading docker_pycreds-0.4.0-py2.py3-none-any.whl (9.0 kB)\n",
      "Collecting sentry-sdk>=1.0.0\n",
      "  Downloading sentry_sdk-1.32.0-py2.py3-none-any.whl (240 kB)\n",
      "     |████████████████████████████████| 240 kB 95.3 MB/s            \n",
      "\u001b[?25hCollecting GitPython!=3.1.29,>=1.0.0\n",
      "  Downloading GitPython-3.1.40-py3-none-any.whl (190 kB)\n",
      "     |████████████████████████████████| 190 kB 67.4 MB/s            \n",
      "\u001b[?25hRequirement already satisfied: appdirs>=1.4.3 in /opt/conda/lib/python3.9/site-packages (from wandb->-r /aiffel/aiffel/workplace/GiTi-4/GiTi-4/MulitmodalERC-TensorMixerNetwork/requirements.txt (line 20)) (1.4.4)\n",
      "Collecting setproctitle\n",
      "  Downloading setproctitle-1.3.3-cp39-cp39-manylinux_2_5_x86_64.manylinux1_x86_64.manylinux_2_17_x86_64.manylinux2014_x86_64.whl (30 kB)\n",
      "Requirement already satisfied: protobuf!=4.21.0,<5,>=3.15.0 in /opt/conda/lib/python3.9/site-packages (from wandb->-r /aiffel/aiffel/workplace/GiTi-4/GiTi-4/MulitmodalERC-TensorMixerNetwork/requirements.txt (line 20)) (3.19.1)\n",
      "Collecting pathtools\n",
      "  Downloading pathtools-0.1.2.tar.gz (11 kB)\n",
      "  Preparing metadata (setup.py) ... \u001b[?25ldone\n",
      "\u001b[?25hRequirement already satisfied: setuptools in /opt/conda/lib/python3.9/site-packages (from wandb->-r /aiffel/aiffel/workplace/GiTi-4/GiTi-4/MulitmodalERC-TensorMixerNetwork/requirements.txt (line 20)) (59.4.0)\n",
      "Requirement already satisfied: joblib>=0.11 in /opt/conda/lib/python3.9/site-packages (from scikit-learn->-r /aiffel/aiffel/workplace/GiTi-4/GiTi-4/MulitmodalERC-TensorMixerNetwork/requirements.txt (line 23)) (1.1.0)\n",
      "Requirement already satisfied: threadpoolctl>=2.0.0 in /opt/conda/lib/python3.9/site-packages (from scikit-learn->-r /aiffel/aiffel/workplace/GiTi-4/GiTi-4/MulitmodalERC-TensorMixerNetwork/requirements.txt (line 23)) (3.0.0)\n",
      "Collecting gitdb<5,>=4.0.1\n",
      "  Downloading gitdb-4.0.10-py3-none-any.whl (62 kB)\n",
      "     |████████████████████████████████| 62 kB 2.3 MB/s             \n",
      "\u001b[?25hRequirement already satisfied: pickleshare in /opt/conda/lib/python3.9/site-packages (from ipython>=7.23.1->ipykernel->-r /aiffel/aiffel/workplace/GiTi-4/GiTi-4/MulitmodalERC-TensorMixerNetwork/requirements.txt (line 5)) (0.7.5)\n",
      "Requirement already satisfied: jedi>=0.16 in /opt/conda/lib/python3.9/site-packages (from ipython>=7.23.1->ipykernel->-r /aiffel/aiffel/workplace/GiTi-4/GiTi-4/MulitmodalERC-TensorMixerNetwork/requirements.txt (line 5)) (0.18.1)\n",
      "Requirement already satisfied: pygments in /opt/conda/lib/python3.9/site-packages (from ipython>=7.23.1->ipykernel->-r /aiffel/aiffel/workplace/GiTi-4/GiTi-4/MulitmodalERC-TensorMixerNetwork/requirements.txt (line 5)) (2.15.1)\n",
      "Requirement already satisfied: prompt-toolkit!=3.0.0,!=3.0.1,<3.1.0,>=2.0.0 in /opt/conda/lib/python3.9/site-packages (from ipython>=7.23.1->ipykernel->-r /aiffel/aiffel/workplace/GiTi-4/GiTi-4/MulitmodalERC-TensorMixerNetwork/requirements.txt (line 5)) (3.0.22)\n",
      "Requirement already satisfied: pexpect>4.3 in /opt/conda/lib/python3.9/site-packages (from ipython>=7.23.1->ipykernel->-r /aiffel/aiffel/workplace/GiTi-4/GiTi-4/MulitmodalERC-TensorMixerNetwork/requirements.txt (line 5)) (4.8.0)\n",
      "Requirement already satisfied: decorator in /opt/conda/lib/python3.9/site-packages (from ipython>=7.23.1->ipykernel->-r /aiffel/aiffel/workplace/GiTi-4/GiTi-4/MulitmodalERC-TensorMixerNetwork/requirements.txt (line 5)) (5.1.1)\n",
      "Requirement already satisfied: backcall in /opt/conda/lib/python3.9/site-packages (from ipython>=7.23.1->ipykernel->-r /aiffel/aiffel/workplace/GiTi-4/GiTi-4/MulitmodalERC-TensorMixerNetwork/requirements.txt (line 5)) (0.2.0)\n",
      "Requirement already satisfied: pyzmq>=13 in /opt/conda/lib/python3.9/site-packages (from jupyter-client<8.0->ipykernel->-r /aiffel/aiffel/workplace/GiTi-4/GiTi-4/MulitmodalERC-TensorMixerNetwork/requirements.txt (line 5)) (22.3.0)\n",
      "Requirement already satisfied: entrypoints in /opt/conda/lib/python3.9/site-packages (from jupyter-client<8.0->ipykernel->-r /aiffel/aiffel/workplace/GiTi-4/GiTi-4/MulitmodalERC-TensorMixerNetwork/requirements.txt (line 5)) (0.3)\n",
      "Requirement already satisfied: jupyter-core>=4.6.0 in /opt/conda/lib/python3.9/site-packages (from jupyter-client<8.0->ipykernel->-r /aiffel/aiffel/workplace/GiTi-4/GiTi-4/MulitmodalERC-TensorMixerNetwork/requirements.txt (line 5)) (4.9.1)\n",
      "Requirement already satisfied: nest-asyncio>=1.5 in /opt/conda/lib/python3.9/site-packages (from jupyter-client<8.0->ipykernel->-r /aiffel/aiffel/workplace/GiTi-4/GiTi-4/MulitmodalERC-TensorMixerNetwork/requirements.txt (line 5)) (1.5.4)\n",
      "Requirement already satisfied: urllib3<1.27,>=1.21.1 in /opt/conda/lib/python3.9/site-packages (from requests->transformers==4.26.1->-r /aiffel/aiffel/workplace/GiTi-4/GiTi-4/MulitmodalERC-TensorMixerNetwork/requirements.txt (line 13)) (1.26.7)\n",
      "Requirement already satisfied: charset-normalizer~=2.0.0 in /opt/conda/lib/python3.9/site-packages (from requests->transformers==4.26.1->-r /aiffel/aiffel/workplace/GiTi-4/GiTi-4/MulitmodalERC-TensorMixerNetwork/requirements.txt (line 13)) (2.0.8)\n",
      "Requirement already satisfied: idna<4,>=2.5 in /opt/conda/lib/python3.9/site-packages (from requests->transformers==4.26.1->-r /aiffel/aiffel/workplace/GiTi-4/GiTi-4/MulitmodalERC-TensorMixerNetwork/requirements.txt (line 13)) (2.10)\n",
      "Requirement already satisfied: certifi>=2017.4.17 in /opt/conda/lib/python3.9/site-packages (from requests->transformers==4.26.1->-r /aiffel/aiffel/workplace/GiTi-4/GiTi-4/MulitmodalERC-TensorMixerNetwork/requirements.txt (line 13)) (2023.5.7)\n"
     ]
    },
    {
     "name": "stdout",
     "output_type": "stream",
     "text": [
      "Collecting urllib3<1.27,>=1.21.1\n",
      "  Downloading urllib3-1.26.18-py2.py3-none-any.whl (143 kB)\n",
      "     |████████████████████████████████| 143 kB 66.3 MB/s            \n",
      "\u001b[?25hRequirement already satisfied: sympy in /opt/conda/lib/python3.9/site-packages (from torch>=1.10.0->pytorch-lightning==1.9.4->-r /aiffel/aiffel/workplace/GiTi-4/GiTi-4/MulitmodalERC-TensorMixerNetwork/requirements.txt (line 1)) (1.12)\n",
      "Requirement already satisfied: nvidia-cusparse-cu12==12.1.0.106 in /opt/conda/lib/python3.9/site-packages (from torch>=1.10.0->pytorch-lightning==1.9.4->-r /aiffel/aiffel/workplace/GiTi-4/GiTi-4/MulitmodalERC-TensorMixerNetwork/requirements.txt (line 1)) (12.1.0.106)\n",
      "Requirement already satisfied: jinja2 in /opt/conda/lib/python3.9/site-packages (from torch>=1.10.0->pytorch-lightning==1.9.4->-r /aiffel/aiffel/workplace/GiTi-4/GiTi-4/MulitmodalERC-TensorMixerNetwork/requirements.txt (line 1)) (3.0.3)\n",
      "Requirement already satisfied: nvidia-cuda-cupti-cu12==12.1.105 in /opt/conda/lib/python3.9/site-packages (from torch>=1.10.0->pytorch-lightning==1.9.4->-r /aiffel/aiffel/workplace/GiTi-4/GiTi-4/MulitmodalERC-TensorMixerNetwork/requirements.txt (line 1)) (12.1.105)\n",
      "Requirement already satisfied: nvidia-cudnn-cu12==8.9.2.26 in /opt/conda/lib/python3.9/site-packages (from torch>=1.10.0->pytorch-lightning==1.9.4->-r /aiffel/aiffel/workplace/GiTi-4/GiTi-4/MulitmodalERC-TensorMixerNetwork/requirements.txt (line 1)) (8.9.2.26)\n",
      "Requirement already satisfied: nvidia-cufft-cu12==11.0.2.54 in /opt/conda/lib/python3.9/site-packages (from torch>=1.10.0->pytorch-lightning==1.9.4->-r /aiffel/aiffel/workplace/GiTi-4/GiTi-4/MulitmodalERC-TensorMixerNetwork/requirements.txt (line 1)) (11.0.2.54)\n",
      "Requirement already satisfied: nvidia-cuda-runtime-cu12==12.1.105 in /opt/conda/lib/python3.9/site-packages (from torch>=1.10.0->pytorch-lightning==1.9.4->-r /aiffel/aiffel/workplace/GiTi-4/GiTi-4/MulitmodalERC-TensorMixerNetwork/requirements.txt (line 1)) (12.1.105)\n",
      "Requirement already satisfied: nvidia-curand-cu12==10.3.2.106 in /opt/conda/lib/python3.9/site-packages (from torch>=1.10.0->pytorch-lightning==1.9.4->-r /aiffel/aiffel/workplace/GiTi-4/GiTi-4/MulitmodalERC-TensorMixerNetwork/requirements.txt (line 1)) (10.3.2.106)\n",
      "Requirement already satisfied: networkx in /opt/conda/lib/python3.9/site-packages (from torch>=1.10.0->pytorch-lightning==1.9.4->-r /aiffel/aiffel/workplace/GiTi-4/GiTi-4/MulitmodalERC-TensorMixerNetwork/requirements.txt (line 1)) (2.6.3)\n",
      "Requirement already satisfied: nvidia-nvtx-cu12==12.1.105 in /opt/conda/lib/python3.9/site-packages (from torch>=1.10.0->pytorch-lightning==1.9.4->-r /aiffel/aiffel/workplace/GiTi-4/GiTi-4/MulitmodalERC-TensorMixerNetwork/requirements.txt (line 1)) (12.1.105)\n",
      "Requirement already satisfied: nvidia-cublas-cu12==12.1.3.1 in /opt/conda/lib/python3.9/site-packages (from torch>=1.10.0->pytorch-lightning==1.9.4->-r /aiffel/aiffel/workplace/GiTi-4/GiTi-4/MulitmodalERC-TensorMixerNetwork/requirements.txt (line 1)) (12.1.3.1)\n",
      "Requirement already satisfied: nvidia-cuda-nvrtc-cu12==12.1.105 in /opt/conda/lib/python3.9/site-packages (from torch>=1.10.0->pytorch-lightning==1.9.4->-r /aiffel/aiffel/workplace/GiTi-4/GiTi-4/MulitmodalERC-TensorMixerNetwork/requirements.txt (line 1)) (12.1.105)\n",
      "Requirement already satisfied: nvidia-cusolver-cu12==11.4.5.107 in /opt/conda/lib/python3.9/site-packages (from torch>=1.10.0->pytorch-lightning==1.9.4->-r /aiffel/aiffel/workplace/GiTi-4/GiTi-4/MulitmodalERC-TensorMixerNetwork/requirements.txt (line 1)) (11.4.5.107)\n",
      "Requirement already satisfied: nvidia-nccl-cu12==2.18.1 in /opt/conda/lib/python3.9/site-packages (from torch>=1.10.0->pytorch-lightning==1.9.4->-r /aiffel/aiffel/workplace/GiTi-4/GiTi-4/MulitmodalERC-TensorMixerNetwork/requirements.txt (line 1)) (2.18.1)\n",
      "Requirement already satisfied: triton==2.1.0 in /opt/conda/lib/python3.9/site-packages (from torch>=1.10.0->pytorch-lightning==1.9.4->-r /aiffel/aiffel/workplace/GiTi-4/GiTi-4/MulitmodalERC-TensorMixerNetwork/requirements.txt (line 1)) (2.1.0)\n",
      "Requirement already satisfied: nvidia-nvjitlink-cu12 in /opt/conda/lib/python3.9/site-packages (from nvidia-cusolver-cu12==11.4.5.107->torch>=1.10.0->pytorch-lightning==1.9.4->-r /aiffel/aiffel/workplace/GiTi-4/GiTi-4/MulitmodalERC-TensorMixerNetwork/requirements.txt (line 1)) (12.3.52)\n",
      "Requirement already satisfied: yarl<2.0,>=1.0 in /opt/conda/lib/python3.9/site-packages (from aiohttp->datasets->-r /aiffel/aiffel/workplace/GiTi-4/GiTi-4/MulitmodalERC-TensorMixerNetwork/requirements.txt (line 18)) (1.7.2)\n",
      "Requirement already satisfied: frozenlist>=1.1.1 in /opt/conda/lib/python3.9/site-packages (from aiohttp->datasets->-r /aiffel/aiffel/workplace/GiTi-4/GiTi-4/MulitmodalERC-TensorMixerNetwork/requirements.txt (line 18)) (1.2.0)\n",
      "Requirement already satisfied: aiosignal>=1.1.2 in /opt/conda/lib/python3.9/site-packages (from aiohttp->datasets->-r /aiffel/aiffel/workplace/GiTi-4/GiTi-4/MulitmodalERC-TensorMixerNetwork/requirements.txt (line 18)) (1.2.0)\n",
      "Requirement already satisfied: multidict<7.0,>=4.5 in /opt/conda/lib/python3.9/site-packages (from aiohttp->datasets->-r /aiffel/aiffel/workplace/GiTi-4/GiTi-4/MulitmodalERC-TensorMixerNetwork/requirements.txt (line 18)) (5.2.0)\n",
      "Requirement already satisfied: attrs>=17.3.0 in /opt/conda/lib/python3.9/site-packages (from aiohttp->datasets->-r /aiffel/aiffel/workplace/GiTi-4/GiTi-4/MulitmodalERC-TensorMixerNetwork/requirements.txt (line 18)) (21.2.0)\n",
      "Requirement already satisfied: async-timeout<5.0,>=4.0.0a3 in /opt/conda/lib/python3.9/site-packages (from aiohttp->datasets->-r /aiffel/aiffel/workplace/GiTi-4/GiTi-4/MulitmodalERC-TensorMixerNetwork/requirements.txt (line 18)) (4.0.1)\n",
      "Requirement already satisfied: nbformat>=4.2.0 in /opt/conda/lib/python3.9/site-packages (from ipywidgets->jupyter->-r /aiffel/aiffel/workplace/GiTi-4/GiTi-4/MulitmodalERC-TensorMixerNetwork/requirements.txt (line 4)) (5.1.3)\n",
      "Requirement already satisfied: jupyterlab-widgets>=1.0.0 in /opt/conda/lib/python3.9/site-packages (from ipywidgets->jupyter->-r /aiffel/aiffel/workplace/GiTi-4/GiTi-4/MulitmodalERC-TensorMixerNetwork/requirements.txt (line 4)) (1.0.2)\n",
      "Requirement already satisfied: widgetsnbextension~=3.5.0 in /opt/conda/lib/python3.9/site-packages (from ipywidgets->jupyter->-r /aiffel/aiffel/workplace/GiTi-4/GiTi-4/MulitmodalERC-TensorMixerNetwork/requirements.txt (line 4)) (3.5.2)\n",
      "Requirement already satisfied: ipython-genutils~=0.2.0 in /opt/conda/lib/python3.9/site-packages (from ipywidgets->jupyter->-r /aiffel/aiffel/workplace/GiTi-4/GiTi-4/MulitmodalERC-TensorMixerNetwork/requirements.txt (line 4)) (0.2.0)\n",
      "Collecting traitlets<6.0,>=5.1.0\n",
      "  Downloading traitlets-5.11.2-py3-none-any.whl (83 kB)\n",
      "     |████████████████████████████████| 83 kB 3.9 MB/s             \n",
      "\u001b[?25hCollecting prompt-toolkit!=3.0.0,!=3.0.1,<3.1.0,>=2.0.0\n",
      "  Downloading prompt_toolkit-3.0.39-py3-none-any.whl (385 kB)\n",
      "     |████████████████████████████████| 385 kB 68.2 MB/s            \n",
      "\u001b[?25hCollecting ipykernel\n",
      "  Downloading ipykernel-6.25.2-py3-none-any.whl (154 kB)\n",
      "     |████████████████████████████████| 154 kB 64.2 MB/s            \n",
      "\u001b[?25hCollecting jupyter-core>=4.6.0\n",
      "  Downloading jupyter_core-5.4.0-py3-none-any.whl (28 kB)\n",
      "Collecting debugpy<2.0,>=1.0.0\n",
      "  Downloading debugpy-1.8.0-cp39-cp39-manylinux_2_17_x86_64.manylinux2014_x86_64.whl (3.4 MB)\n",
      "     |████████████████████████████████| 3.4 MB 44.3 MB/s            \n",
      "\u001b[?25hCollecting comm>=0.1.1\n",
      "  Downloading comm-0.1.4-py3-none-any.whl (6.6 kB)\n",
      "Requirement already satisfied: jupyterlab-pygments in /opt/conda/lib/python3.9/site-packages (from nbconvert->jupyter->-r /aiffel/aiffel/workplace/GiTi-4/GiTi-4/MulitmodalERC-TensorMixerNetwork/requirements.txt (line 4)) (0.1.2)\n",
      "Requirement already satisfied: nbclient<0.6.0,>=0.5.0 in /opt/conda/lib/python3.9/site-packages (from nbconvert->jupyter->-r /aiffel/aiffel/workplace/GiTi-4/GiTi-4/MulitmodalERC-TensorMixerNetwork/requirements.txt (line 4)) (0.5.9)\n",
      "Requirement already satisfied: testpath in /opt/conda/lib/python3.9/site-packages (from nbconvert->jupyter->-r /aiffel/aiffel/workplace/GiTi-4/GiTi-4/MulitmodalERC-TensorMixerNetwork/requirements.txt (line 4)) (0.5.0)\n",
      "Requirement already satisfied: mistune<2,>=0.8.1 in /opt/conda/lib/python3.9/site-packages (from nbconvert->jupyter->-r /aiffel/aiffel/workplace/GiTi-4/GiTi-4/MulitmodalERC-TensorMixerNetwork/requirements.txt (line 4)) (0.8.4)\n"
     ]
    },
    {
     "name": "stdout",
     "output_type": "stream",
     "text": [
      "Requirement already satisfied: bleach in /opt/conda/lib/python3.9/site-packages (from nbconvert->jupyter->-r /aiffel/aiffel/workplace/GiTi-4/GiTi-4/MulitmodalERC-TensorMixerNetwork/requirements.txt (line 4)) (4.1.0)\n",
      "Requirement already satisfied: pandocfilters>=1.4.1 in /opt/conda/lib/python3.9/site-packages (from nbconvert->jupyter->-r /aiffel/aiffel/workplace/GiTi-4/GiTi-4/MulitmodalERC-TensorMixerNetwork/requirements.txt (line 4)) (1.5.0)\n",
      "Requirement already satisfied: defusedxml in /opt/conda/lib/python3.9/site-packages (from nbconvert->jupyter->-r /aiffel/aiffel/workplace/GiTi-4/GiTi-4/MulitmodalERC-TensorMixerNetwork/requirements.txt (line 4)) (0.7.1)\n",
      "Requirement already satisfied: terminado>=0.8.3 in /opt/conda/lib/python3.9/site-packages (from notebook->jupyter->-r /aiffel/aiffel/workplace/GiTi-4/GiTi-4/MulitmodalERC-TensorMixerNetwork/requirements.txt (line 4)) (0.12.1)\n",
      "Requirement already satisfied: prometheus-client in /opt/conda/lib/python3.9/site-packages (from notebook->jupyter->-r /aiffel/aiffel/workplace/GiTi-4/GiTi-4/MulitmodalERC-TensorMixerNetwork/requirements.txt (line 4)) (0.12.0)\n",
      "Requirement already satisfied: Send2Trash in /opt/conda/lib/python3.9/site-packages (from notebook->jupyter->-r /aiffel/aiffel/workplace/GiTi-4/GiTi-4/MulitmodalERC-TensorMixerNetwork/requirements.txt (line 4)) (1.8.0)\n",
      "Requirement already satisfied: argon2-cffi in /opt/conda/lib/python3.9/site-packages (from notebook->jupyter->-r /aiffel/aiffel/workplace/GiTi-4/GiTi-4/MulitmodalERC-TensorMixerNetwork/requirements.txt (line 4)) (21.1.0)\n",
      "Collecting qtpy>=2.4.0\n",
      "  Downloading QtPy-2.4.0-py3-none-any.whl (93 kB)\n",
      "     |████████████████████████████████| 93 kB 2.8 MB/s             \n",
      "\u001b[?25hCollecting smmap<6,>=3.0.1\n",
      "  Downloading smmap-5.0.1-py3-none-any.whl (24 kB)\n",
      "Requirement already satisfied: parso<0.9.0,>=0.8.0 in /opt/conda/lib/python3.9/site-packages (from jedi>=0.16->ipython>=7.23.1->ipykernel->-r /aiffel/aiffel/workplace/GiTi-4/GiTi-4/MulitmodalERC-TensorMixerNetwork/requirements.txt (line 5)) (0.8.3)\n",
      "Requirement already satisfied: MarkupSafe>=2.0 in /opt/conda/lib/python3.9/site-packages (from jinja2->torch>=1.10.0->pytorch-lightning==1.9.4->-r /aiffel/aiffel/workplace/GiTi-4/GiTi-4/MulitmodalERC-TensorMixerNetwork/requirements.txt (line 1)) (2.0.1)\n",
      "Requirement already satisfied: jsonschema!=2.5.0,>=2.4 in /opt/conda/lib/python3.9/site-packages (from nbformat>=4.2.0->ipywidgets->jupyter->-r /aiffel/aiffel/workplace/GiTi-4/GiTi-4/MulitmodalERC-TensorMixerNetwork/requirements.txt (line 4)) (4.2.1)\n",
      "Requirement already satisfied: ptyprocess>=0.5 in /opt/conda/lib/python3.9/site-packages (from pexpect>4.3->ipython>=7.23.1->ipykernel->-r /aiffel/aiffel/workplace/GiTi-4/GiTi-4/MulitmodalERC-TensorMixerNetwork/requirements.txt (line 5)) (0.7.0)\n",
      "Requirement already satisfied: wcwidth in /opt/conda/lib/python3.9/site-packages (from prompt-toolkit!=3.0.0,!=3.0.1,<3.1.0,>=2.0.0->ipython>=7.23.1->ipykernel->-r /aiffel/aiffel/workplace/GiTi-4/GiTi-4/MulitmodalERC-TensorMixerNetwork/requirements.txt (line 5)) (0.2.5)\n",
      "Requirement already satisfied: cffi>=1.0.0 in /opt/conda/lib/python3.9/site-packages (from argon2-cffi->notebook->jupyter->-r /aiffel/aiffel/workplace/GiTi-4/GiTi-4/MulitmodalERC-TensorMixerNetwork/requirements.txt (line 4)) (1.15.0)\n",
      "Requirement already satisfied: webencodings in /opt/conda/lib/python3.9/site-packages (from bleach->nbconvert->jupyter->-r /aiffel/aiffel/workplace/GiTi-4/GiTi-4/MulitmodalERC-TensorMixerNetwork/requirements.txt (line 4)) (0.5.1)\n",
      "Requirement already satisfied: mpmath>=0.19 in /opt/conda/lib/python3.9/site-packages (from sympy->torch>=1.10.0->pytorch-lightning==1.9.4->-r /aiffel/aiffel/workplace/GiTi-4/GiTi-4/MulitmodalERC-TensorMixerNetwork/requirements.txt (line 1)) (1.3.0)\n",
      "Requirement already satisfied: pycparser in /opt/conda/lib/python3.9/site-packages (from cffi>=1.0.0->argon2-cffi->notebook->jupyter->-r /aiffel/aiffel/workplace/GiTi-4/GiTi-4/MulitmodalERC-TensorMixerNetwork/requirements.txt (line 4)) (2.21)\n",
      "Requirement already satisfied: pyrsistent!=0.17.0,!=0.17.1,!=0.17.2,>=0.14.0 in /opt/conda/lib/python3.9/site-packages (from jsonschema!=2.5.0,>=2.4->nbformat>=4.2.0->ipywidgets->jupyter->-r /aiffel/aiffel/workplace/GiTi-4/GiTi-4/MulitmodalERC-TensorMixerNetwork/requirements.txt (line 4)) (0.18.0)\n",
      "Building wheels for collected packages: fire, pathtools\n",
      "  Building wheel for fire (setup.py) ... \u001b[?25ldone\n",
      "\u001b[?25h  Created wheel for fire: filename=fire-0.5.0-py2.py3-none-any.whl size=116950 sha256=2f25aa3d46dadc38f53c613d90963e0d1f9d19246c12a8103a791418f7b0f34e\n",
      "  Stored in directory: /aiffel/.cache/pip/wheels/f7/f1/89/b9ea2bf8f80ec027a88fef1d354b3816b4d3d29530988972f6\n",
      "  Building wheel for pathtools (setup.py) ... \u001b[?25ldone\n",
      "\u001b[?25h  Created wheel for pathtools: filename=pathtools-0.1.2-py3-none-any.whl size=8807 sha256=d9219b4ffd9f5e67550e62451e7389f5d1cb9deb4cd18f90bfdadbc76299944d\n",
      "  Stored in directory: /aiffel/.cache/pip/wheels/b7/0a/67/ada2a22079218c75a88361c0782855cc72aebc4d18d0289d05\n",
      "Successfully built fire pathtools\n",
      "Installing collected packages: traitlets, jupyter-core, prompt-toolkit, debugpy, comm, ipykernel, urllib3, smmap, qtpy, lightning-utilities, gitdb, torchmetrics, setproctitle, sentry-sdk, rapidfuzz, qtconsole, pyflakes, pycodestyle, pluggy, pathtools, mccabe, jupyter-console, iniconfig, GitPython, exceptiongroup, docker-pycreds, click, wandb, transformers, pytorch-lightning, pytest, jupyter, jiwer, flake8, fire, einops\n",
      "  Attempting uninstall: traitlets\n",
      "    Found existing installation: traitlets 5.1.1\n",
      "    Uninstalling traitlets-5.1.1:\n",
      "      Successfully uninstalled traitlets-5.1.1\n",
      "  Attempting uninstall: jupyter-core\n",
      "    Found existing installation: jupyter-core 4.9.1\n",
      "    Uninstalling jupyter-core-4.9.1:\n",
      "      Successfully uninstalled jupyter-core-4.9.1\n",
      "  Attempting uninstall: prompt-toolkit\n",
      "    Found existing installation: prompt-toolkit 3.0.22\n",
      "    Uninstalling prompt-toolkit-3.0.22:\n",
      "      Successfully uninstalled prompt-toolkit-3.0.22\n",
      "  Attempting uninstall: debugpy\n",
      "    Found existing installation: debugpy 1.5.1\n",
      "    Uninstalling debugpy-1.5.1:\n",
      "      Successfully uninstalled debugpy-1.5.1\n",
      "  Attempting uninstall: ipykernel\n",
      "    Found existing installation: ipykernel 6.6.0\n",
      "    Uninstalling ipykernel-6.6.0:\n",
      "      Successfully uninstalled ipykernel-6.6.0\n",
      "  Attempting uninstall: urllib3\n",
      "    Found existing installation: urllib3 1.26.7\n",
      "    Uninstalling urllib3-1.26.7:\n",
      "      Successfully uninstalled urllib3-1.26.7\n",
      "  Attempting uninstall: click\n",
      "    Found existing installation: click 8.0.3\n",
      "    Uninstalling click-8.0.3:\n",
      "      Successfully uninstalled click-8.0.3\n",
      "  Attempting uninstall: transformers\n",
      "    Found existing installation: transformers 4.28.0\n",
      "    Uninstalling transformers-4.28.0:\n",
      "      Successfully uninstalled transformers-4.28.0\n",
      "\u001b[31mERROR: pip's dependency resolver does not currently take into account all the packages that are installed. This behaviour is the source of the following dependency conflicts.\n",
      "moviepy 1.0.3 requires decorator<5.0,>=4.0.2, but you have decorator 5.1.1 which is incompatible.\u001b[0m\n",
      "Successfully installed GitPython-3.1.40 click-8.1.7 comm-0.1.4 debugpy-1.8.0 docker-pycreds-0.4.0 einops-0.7.0 exceptiongroup-1.1.3 fire-0.5.0 flake8-6.1.0 gitdb-4.0.10 iniconfig-2.0.0 ipykernel-6.25.2 jiwer-3.0.3 jupyter-1.0.0 jupyter-console-6.6.3 jupyter-core-5.4.0 lightning-utilities-0.9.0 mccabe-0.7.0 pathtools-0.1.2 pluggy-1.3.0 prompt-toolkit-3.0.39 pycodestyle-2.11.1 pyflakes-3.1.0 pytest-7.4.2 pytorch-lightning-1.9.4 qtconsole-5.4.4 qtpy-2.4.0 rapidfuzz-3.4.0 sentry-sdk-1.32.0 setproctitle-1.3.3 smmap-5.0.1 torchmetrics-1.2.0 traitlets-5.11.2 transformers-4.26.1 urllib3-1.26.18 wandb-0.15.12\n",
      "\u001b[33mWARNING: Running pip as the 'root' user can result in broken permissions and conflicting behaviour with the system package manager. It is recommended to use a virtual environment instead: https://pip.pypa.io/warnings/venv\u001b[0m\n"
     ]
    }
   ],
   "source": [
    "!pip install -r /aiffel/aiffel/workplace/GiTi-4/GiTi-4/MulitmodalERC-TensorMixerNetwork/requirements.txt"
   ]
  },
  {
   "cell_type": "code",
   "execution_count": 10,
   "metadata": {
    "colab": {
     "base_uri": "https://localhost:8080/"
    },
    "executionInfo": {
     "elapsed": 13391,
     "status": "ok",
     "timestamp": 1697707703452,
     "user": {
      "displayName": "이태훈",
      "userId": "05384261363500900500"
     },
     "user_tz": -540
    },
    "id": "xzyJr1-i7UJR",
    "outputId": "dc8e900c-866e-4c5c-c9a8-603d2c257d5a"
   },
   "outputs": [
    {
     "name": "stdout",
     "output_type": "stream",
     "text": [
      "\u001b[33mWARNING: Running pip as the 'root' user can result in broken permissions and conflicting behaviour with the system package manager. It is recommended to use a virtual environment instead: https://pip.pypa.io/warnings/venv\u001b[0m\r\n"
     ]
    }
   ],
   "source": [
    "!pip install -q peft"
   ]
  },
  {
   "cell_type": "markdown",
   "metadata": {
    "id": "N78-CkyY70nt"
   },
   "source": [
    "## 데이터셋 준비"
   ]
  },
  {
   "cell_type": "code",
   "execution_count": 11,
   "metadata": {
    "id": "kAZh41py7Qp-"
   },
   "outputs": [],
   "source": [
    "import zipfile\n",
    "import os\n",
    "import shutil"
   ]
  },
  {
   "cell_type": "code",
   "execution_count": 1,
   "metadata": {
    "id": "LFIb3hcH7bS4"
   },
   "outputs": [],
   "source": [
    "# 구글 드라이브에서 공유문서함 디렉토리 입력해주세요\n",
    "# 예시) /content/drive/MyDrive/github\n",
    "GOOGLE_DIR = '/aiffel/aiffel/workplace/GiTi-4/GiTi-4/'"
   ]
  },
  {
   "cell_type": "markdown",
   "metadata": {
    "id": "TsLryb8W8Ae5"
   },
   "source": [
    "### KEMDy19_v1_2.zip"
   ]
  },
  {
   "cell_type": "code",
   "execution_count": null,
   "metadata": {
    "id": "1MRoswRE7dDL"
   },
   "outputs": [],
   "source": [
    "# 19년도 Zip 파일 - Unzip & Move\n",
    "# 약 1분 소요\n",
    "zip_file_19 = os.path.join(GOOGLE_DIR, 'data_zip/KEMDy19_v1_2.zip')\n",
    "extract_folder_19 = '/content/MulitmodalERC-TensorMixerNetwork/data/KEMDy19'\n",
    "\n",
    "# 압축을 해제\n",
    "with zipfile.ZipFile(zip_file_19, 'r') as zip_ref:\n",
    "    zip_ref.extractall(extract_folder_19)"
   ]
  },
  {
   "cell_type": "markdown",
   "metadata": {
    "id": "kGD-y55X8D5T"
   },
   "source": [
    "### KEMDy20_v1_2.zip"
   ]
  },
  {
   "cell_type": "code",
   "execution_count": null,
   "metadata": {
    "id": "3W8C_eRY7ejB"
   },
   "outputs": [],
   "source": [
    "# 20년도 Zip 파일 - Unzip & Move\n",
    "# 약 1분 소요\n",
    "zip_file_20 = os.path.join(GOOGLE_DIR, 'aiffelthon/GiTi-4/data_zip/KEMDy20_v1_2.zip')\n",
    "extract_folder_20 = '/content/MulitmodalERC-TensorMixerNetwork/data/KEMDy20_v1_1'\n",
    "\n",
    "# 압축을 해제\n",
    "with zipfile.ZipFile(zip_file_20, 'r') as zip_ref:\n",
    "    zip_ref.extractall(extract_folder_20)"
   ]
  },
  {
   "cell_type": "markdown",
   "metadata": {
    "id": "wp_J7HNV8HU-"
   },
   "source": [
    "### kemdy19.csv"
   ]
  },
  {
   "cell_type": "code",
   "execution_count": null,
   "metadata": {
    "colab": {
     "base_uri": "https://localhost:8080/",
     "height": 35
    },
    "executionInfo": {
     "elapsed": 16,
     "status": "ok",
     "timestamp": 1697708001685,
     "user": {
      "displayName": "이태훈",
      "userId": "05384261363500900500"
     },
     "user_tz": -540
    },
    "id": "G75qUId18GUK",
    "outputId": "f113ac8f-4d99-498b-96f7-2cab776db358"
   },
   "outputs": [
    {
     "data": {
      "application/vnd.google.colaboratory.intrinsic+json": {
       "type": "string"
      },
      "text/plain": [
       "'/content/MulitmodalERC-TensorMixerNetwork/data/kemdy19.csv'"
      ]
     },
     "execution_count": 11,
     "metadata": {},
     "output_type": "execute_result"
    }
   ],
   "source": [
    "# 약 1초\n",
    "source_file_19 = os.path.join(GOOGLE_DIR,'aiffelthon/GiTi-4/data_zip/kemdy19.csv')\n",
    "destination_dir_19 = '/content/MulitmodalERC-TensorMixerNetwork/data/'\n",
    "\n",
    "shutil.copy(source_file_19, destination_dir_19)"
   ]
  },
  {
   "cell_type": "markdown",
   "metadata": {
    "id": "bguNUnAf8KL_"
   },
   "source": [
    "### kemdy20.csv"
   ]
  },
  {
   "cell_type": "code",
   "execution_count": null,
   "metadata": {
    "colab": {
     "base_uri": "https://localhost:8080/",
     "height": 35
    },
    "executionInfo": {
     "elapsed": 442,
     "status": "ok",
     "timestamp": 1697708002118,
     "user": {
      "displayName": "이태훈",
      "userId": "05384261363500900500"
     },
     "user_tz": -540
    },
    "id": "RuBzOAL-8GWk",
    "outputId": "36d18e68-11a2-4d34-9c82-16172e070495"
   },
   "outputs": [
    {
     "data": {
      "application/vnd.google.colaboratory.intrinsic+json": {
       "type": "string"
      },
      "text/plain": [
       "'/content/MulitmodalERC-TensorMixerNetwork/data/kemdy20.csv'"
      ]
     },
     "execution_count": 12,
     "metadata": {},
     "output_type": "execute_result"
    }
   ],
   "source": [
    "# 약 1초\n",
    "source_file_20 = os.path.join(GOOGLE_DIR,'aiffelthon/GiTi-4/data_zip/kemdy20.csv')\n",
    "destination_dir_20 = '/content/MulitmodalERC-TensorMixerNetwork/data/'\n",
    "\n",
    "shutil.copy(source_file_20, destination_dir_20)"
   ]
  },
  {
   "cell_type": "markdown",
   "metadata": {
    "id": "jfpi4M498obw"
   },
   "source": [
    "### kemdy19-kemdy20_train4_multilabelFalse_rdeuceTrue.zip"
   ]
  },
  {
   "cell_type": "code",
   "execution_count": null,
   "metadata": {
    "id": "LRz5LXFW8GZO"
   },
   "outputs": [],
   "source": [
    "# 약 2분\n",
    "kemdy_train = os.path.join(GOOGLE_DIR, 'aiffelthon/GiTi-4/data_zip/kemdy19-kemdy20_train4_multilabelTrue_rdeuceFalse.zip')\n",
    "extract_kemdy_train = '/content/MulitmodalERC-TensorMixerNetwork/kemdy19-kemdy20_train4_multilabelTrue_rdeuceFalse'\n",
    "\n",
    "# 압축을 해제\n",
    "with zipfile.ZipFile(kemdy_train, 'r') as zip_ref:\n",
    "    zip_ref.extractall(extract_kemdy_train)"
   ]
  },
  {
   "cell_type": "markdown",
   "metadata": {
    "id": "owgpxF668uAW"
   },
   "source": [
    "### kemdy19-kemdy20_valid4_multilabelFalse_rdeuceTrue.zip"
   ]
  },
  {
   "cell_type": "code",
   "execution_count": null,
   "metadata": {
    "id": "vY1FRQxx8GdR"
   },
   "outputs": [],
   "source": [
    "# 약 40초\n",
    "kemdy_valid = os.path.join(GOOGLE_DIR, 'aiffelthon/GiTi-4/data_zip/kemdy19-kemdy20_valid4_multilabelTrue_rdeuceFalse.zip')\n",
    "extract_kemdy_valid = '/content/MulitmodalERC-TensorMixerNetwork/kemdy19-kemdy20_valid4_multilabelTrue_rdeuceFalse'\n",
    "\n",
    "# 압축을 해제\n",
    "with zipfile.ZipFile(kemdy_valid, 'r') as zip_ref:\n",
    "    zip_ref.extractall(extract_kemdy_valid)"
   ]
  },
  {
   "cell_type": "markdown",
   "metadata": {
    "id": "IxjKzwxX_sLN"
   },
   "source": [
    "## 실행"
   ]
  },
  {
   "cell_type": "code",
   "execution_count": null,
   "metadata": {
    "colab": {
     "base_uri": "https://localhost:8080/"
    },
    "executionInfo": {
     "elapsed": 558,
     "status": "ok",
     "timestamp": 1697708576642,
     "user": {
      "displayName": "이태훈",
      "userId": "05384261363500900500"
     },
     "user_tz": -540
    },
    "id": "7kIrSK6gAjjL",
    "outputId": "b9f3c68c-03c8-4212-fee7-010cd9538c88"
   },
   "outputs": [
    {
     "name": "stdout",
     "output_type": "stream",
     "text": [
      "/content/MulitmodalERC-TensorMixerNetwork\n"
     ]
    }
   ],
   "source": [
    "%cd /content/MulitmodalERC-TensorMixerNetwork"
   ]
  },
  {
   "cell_type": "code",
   "execution_count": null,
   "metadata": {
    "id": "0nHM1vqXsHx9"
   },
   "outputs": [],
   "source": [
    "os.environ[\"WANDB_MODE\"] = \"disabled\""
   ]
  },
  {
   "cell_type": "code",
   "execution_count": null,
   "metadata": {
    "id": "ttPEzWARbf4-"
   },
   "outputs": [],
   "source": [
    "# 데이터셋 개수 지정\n",
    "import yaml\n",
    "yaml_file_path = 'config/dataset/hf.yaml'\n",
    "\n",
    "with open(yaml_file_path, 'r') as yaml_file:\n",
    "    yaml_data = yaml.safe_load(yaml_file)\n",
    "\n",
    "# 특정 키 수정\n",
    "yaml_data['num_data'] = 10000 # 수정\n",
    "\n",
    "# 수정된 YAML 파일 저장\n",
    "with open(yaml_file_path, 'w') as yaml_file:\n",
    "    yaml.dump(yaml_data, yaml_file)"
   ]
  },
  {
   "cell_type": "code",
   "execution_count": null,
   "metadata": {
    "colab": {
     "base_uri": "https://localhost:8080/"
    },
    "executionInfo": {
     "elapsed": 29935,
     "status": "ok",
     "timestamp": 1697711643085,
     "user": {
      "displayName": "이태훈",
      "userId": "05384261363500900500"
     },
     "user_tz": -540
    },
    "id": "JmFbL2Cyqnth",
    "outputId": "8d614118-a8b5-49eb-fdf8-0fa56d522fe2"
   },
   "outputs": [
    {
     "name": "stdout",
     "output_type": "stream",
     "text": [
      "2023-10-19 10:33:37.077112: I tensorflow/core/platform/cpu_feature_guard.cc:182] This TensorFlow binary is optimized to use available CPU instructions in performance-critical operations.\n",
      "To enable the following instructions: AVX2 FMA, in other operations, rebuild TensorFlow with the appropriate compiler flags.\n",
      "2023-10-19 10:33:38.483860: W tensorflow/compiler/tf2tensorrt/utils/py_utils.cc:38] TF-TRT Warning: Could not find TensorRT\n",
      "[2023-10-19 10:33:48,738][__main__][INFO] - Start Training\n",
      "[2023-10-19 10:33:48,738][erc.trainer][INFO] - Start Setting up\n",
      "[2023-10-19 10:33:48,742][erc.trainer][INFO] - Start intantiating Models & Optimizers\n",
      "Some weights of the model checkpoint at kresnik/wav2vec2-large-xlsr-korean were not used when initializing Wav2Vec2ForSequenceClassification: ['lm_head.bias', 'lm_head.weight']\n",
      "- This IS expected if you are initializing Wav2Vec2ForSequenceClassification from the checkpoint of a model trained on another task or with another architecture (e.g. initializing a BertForSequenceClassification model from a BertForPreTraining model).\n",
      "- This IS NOT expected if you are initializing Wav2Vec2ForSequenceClassification from the checkpoint of a model that you expect to be exactly identical (initializing a BertForSequenceClassification model from a BertForSequenceClassification model).\n",
      "Some weights of Wav2Vec2ForSequenceClassification were not initialized from the model checkpoint at kresnik/wav2vec2-large-xlsr-korean and are newly initialized: ['classifier.weight', 'projector.bias', 'classifier.bias', 'projector.weight']\n",
      "You should probably TRAIN this model on a down-stream task to be able to use it for predictions and inference.\n",
      "Some weights of the model checkpoint at klue/roberta-large were not used when initializing RobertaForSequenceClassification: ['lm_head.bias', 'lm_head.layer_norm.weight', 'lm_head.layer_norm.bias', 'lm_head.dense.bias', 'lm_head.dense.weight']\n",
      "- This IS expected if you are initializing RobertaForSequenceClassification from the checkpoint of a model trained on another task or with another architecture (e.g. initializing a BertForSequenceClassification model from a BertForPreTraining model).\n",
      "- This IS NOT expected if you are initializing RobertaForSequenceClassification from the checkpoint of a model that you expect to be exactly identical (initializing a BertForSequenceClassification model from a BertForSequenceClassification model).\n",
      "Some weights of RobertaForSequenceClassification were not initialized from the model checkpoint at klue/roberta-large and are newly initialized: ['classifier.out_proj.weight', 'classifier.out_proj.bias', 'classifier.dense.bias', 'classifier.dense.weight']\n",
      "You should probably TRAIN this model on a down-stream task to be able to use it for predictions and inference.\n",
      "[2023-10-19 10:33:57,710][erc.trainer][INFO] - Start instantiating dataloaders\n",
      "[2023-10-19 10:33:57,714][erc.datasets][INFO] - Load train Huggingface KEMD Dataset\n",
      "[2023-10-19 10:33:57,714][erc.datasets][INFO] - Try Loading dataset kemdy19-kemdy20_train4_multilabelTrue_rdeuceFalse from disk\n",
      "[2023-10-19 10:33:57,777][erc.datasets][INFO] - Successfully loaded kemdy19-kemdy20_train4_multilabelTrue_rdeuceFalse from disk\n",
      "[2023-10-19 10:33:57,778][erc.datasets][INFO] - # Datapoints 10000\n",
      "/usr/local/lib/python3.10/dist-packages/torch/utils/data/dataloader.py:560: UserWarning: This DataLoader will create 4 worker processes in total. Our suggested max number of worker in current system is 2, which is smaller than what this DataLoader is going to create. Please be aware that excessive worker creation might get DataLoader running slow or even freeze, lower the worker number to avoid potential slowness/freeze if necessary.\n",
      "  warnings.warn(_create_warning_msg(\n",
      "[2023-10-19 10:33:57,787][erc.datasets][INFO] - Load valid Huggingface KEMD Dataset\n",
      "[2023-10-19 10:33:57,787][erc.datasets][INFO] - Try Loading dataset kemdy19-kemdy20_valid4_multilabelTrue_rdeuceFalse from disk\n",
      "[2023-10-19 10:33:57,798][erc.datasets][INFO] - Successfully loaded kemdy19-kemdy20_valid4_multilabelTrue_rdeuceFalse from disk\n",
      "[2023-10-19 10:33:57,798][erc.datasets][INFO] - # Datapoints 4930\n",
      "[2023-10-19 10:33:57,804][erc.trainer][INFO] - Start instantiating Pytorch-Lightning Trainer\n",
      "Error executing job with overrides: []\n",
      "Error in call to target 'pytorch_lightning.trainer.trainer.Trainer':\n",
      "MisconfigurationException('No supported gpu backend found!')\n",
      "full_key: trainer\n",
      "\n",
      "Set the environment variable HYDRA_FULL_ERROR=1 for a complete stack trace.\n"
     ]
    }
   ],
   "source": [
    "!python train.py"
   ]
  },
  {
   "cell_type": "markdown",
   "metadata": {
    "id": "fpqATFLDZsU7"
   },
   "source": [
    "- 기존 18529 , 4930"
   ]
  },
  {
   "cell_type": "code",
   "execution_count": null,
   "metadata": {
    "id": "iXvMSgkTVQAk"
   },
   "outputs": [],
   "source": [
    "!python train.py"
   ]
  }
 ],
 "metadata": {
  "colab": {
   "provenance": [],
   "toc_visible": true
  },
  "kernelspec": {
   "display_name": "Python 3 (ipykernel)",
   "language": "python",
   "name": "python3"
  },
  "language_info": {
   "codemirror_mode": {
    "name": "ipython",
    "version": 3
   },
   "file_extension": ".py",
   "mimetype": "text/x-python",
   "name": "python",
   "nbconvert_exporter": "python",
   "pygments_lexer": "ipython3",
   "version": "3.9.7"
  }
 },
 "nbformat": 4,
 "nbformat_minor": 1
}
