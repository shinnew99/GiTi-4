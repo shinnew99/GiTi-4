{
 "cells": [
  {
   "cell_type": "code",
   "execution_count": 1,
   "id": "89318be9",
   "metadata": {},
   "outputs": [],
   "source": [
    "# code from: https://github.com/shinnew99/xai-nlp-notebooks/tree/master\n",
    "# dataset from: https://github.com/shinnew99/korean_unsmile_dataset\n",
    "\n",
    "# others referenced: https://github.com/jason9693/APEACH"
   ]
  },
  {
   "cell_type": "code",
   "execution_count": null,
   "id": "d1a560c1",
   "metadata": {},
   "outputs": [],
   "source": []
  }
 ],
 "metadata": {
  "kernelspec": {
   "display_name": "Python 3 (ipykernel)",
   "language": "python",
   "name": "python3"
  },
  "language_info": {
   "codemirror_mode": {
    "name": "ipython",
    "version": 3
   },
   "file_extension": ".py",
   "mimetype": "text/x-python",
   "name": "python",
   "nbconvert_exporter": "python",
   "pygments_lexer": "ipython3",
   "version": "3.9.7"
  }
 },
 "nbformat": 4,
 "nbformat_minor": 5
}
